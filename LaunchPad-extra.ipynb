{
 "cells": [
  {
   "cell_type": "code",
   "execution_count": 10,
   "metadata": {},
   "outputs": [],
   "source": [
    "%load_ext autoreload\n",
    "%autoreload 2"
   ]
  },
  {
   "cell_type": "code",
   "execution_count": 24,
   "metadata": {},
   "outputs": [],
   "source": [
    "import matplotlib.pyplot as plt\n",
    "from ptflops import get_model_complexity_info\n",
    "from collections import defaultdict\n",
    "import copy\n",
    "import os"
   ]
  },
  {
   "cell_type": "code",
   "execution_count": 12,
   "metadata": {},
   "outputs": [],
   "source": [
    "from CIFARnet import *"
   ]
  },
  {
   "cell_type": "markdown",
   "metadata": {},
   "source": [
    "#### In this notebook we investigate the impact of dropout layers with small dropout rate on the perfomance of networks with close computational complexity but different depth/breadth ratios"
   ]
  },
  {
   "cell_type": "code",
   "execution_count": 80,
   "metadata": {},
   "outputs": [],
   "source": [
    "def configure_ResNet(num_bundles=3, blocks_in_bundle=(3,3,3), channels=(3,16,16,32,64), dropout_rate_2d=0.1, weight_decay=0, batchnorm2d=(True,True)):\n",
    "    \"\"\"\n",
    "        Configures hparams dictionary to be passed to the pytorch-lightning Module\n",
    "    \"\"\"\n",
    "    assert num_bundles==len(blocks_in_bundle), print(f\"'blocks_in_bundle' parameter should be of length 'num_bundles' ({num_bundles})\")\n",
    "    assert num_bundles==len(channels)-2, print(f\"number of channels should be 'num_bundles'+2 {num_bundles+2}\")\n",
    "    assert num_bundles<6, print('Number of bundles can not be larger than 6')\n",
    "    ### First convolutional Block\n",
    "    FirstConvBlock = {'Cin':channels[0], 'Cout':channels[1], 'kernel_size':(3,3), 'stride':1, 'padding':1,\n",
    "                 'dropout_rate':0,\n",
    "                 'BatchNorm':True,\n",
    "                 'activation':'relu'}\n",
    "\n",
    "    ### Configure Residual Blocks\n",
    "    ResBlockTemplate = {'kernel_size':(3,3),'stride':1, 'padding':1,\n",
    "                     'dropout_rate':dropout_rate_2d, 'batchnorm2d':batchnorm2d, 'activation':'relu'}\n",
    "    \n",
    "    BundleTemplate = {'blocks_num':blocks_in_bundle, 'Cin_first':3, 'stride_first':2, 'block_hparams':ResBlockTemplate}\n",
    "    Conv2dBundles = defaultdict(lambda: copy.deepcopy(BundleTemplate))\n",
    "    \n",
    "    for i in range(num_bundles):\n",
    "        stride_first = 1 if i==0 else 2\n",
    "        Conv2dBundles['cv_bundle'+str(i+1)].update({'blocks_num':blocks_in_bundle[i], 'Cin_first':channels[i+1],\n",
    "                                                    'stride_first':stride_first})\n",
    "        Conv2dBundles['cv_bundle'+str(i+1)]['block_hparams'].update({'Cin':channels[i+2], 'Cout':channels[i+2]})\n",
    "    \n",
    "    ### Configure global hyperparameters\n",
    "    hparams = {'Conv2dBundles':dict(Conv2dBundles), \n",
    "               'FirstConvBlock':FirstConvBlock, 'FirstMaxPool':False,\n",
    "               'FcBlock': (channels[-1], 10), 'out_of_conv_dim':(32//(2**(num_bundles-1)),32//(2**(num_bundles-1)))}\n",
    "    hparams['batch_size'] = 100\n",
    "    hparams['learning_rate'] = 2e-4\n",
    "    hparams['weight_decay'] = weight_decay\n",
    "    return hparams"
   ]
  },
  {
   "cell_type": "code",
   "execution_count": 81,
   "metadata": {},
   "outputs": [],
   "source": [
    "from pytorch_lightning.callbacks import LearningRateLogger, EarlyStopping, ModelCheckpoint\n",
    "from pytorch_lightning.loggers import WandbLogger\n",
    "path = '/home/moonstrider/Neural_Networks_Experiments/VISION/CIFAR10/'\n",
    "early_stopping = EarlyStopping('val_loss', min_delta=0.0, patience=3)\n",
    "tmpdir = '/home/moonstrider/Neural_Networks_Experiments/VISION/CIFAR10/chkpt'"
   ]
  },
  {
   "cell_type": "code",
   "execution_count": 92,
   "metadata": {},
   "outputs": [],
   "source": [
    "def set_trainer_and_logger(run_name, tags=[], project='Depth-Breadth-Dropout', offline=True, tmpdir=tmpdir):\n",
    "    wandb_logger = WandbLogger(name=run_name, save_dir=path+'WandB_Logs-extra/',\n",
    "                               offline=offline, project=project, tags=tags)\n",
    "    model_chekpoint = ModelCheckpoint(os.path.join(tmpdir, f'{run_name}'+'-{epoch}-{val_loss:.2f}'), \n",
    "                                  verbose=True, period=3, save_top_k=1)\n",
    "    trainer = pl.Trainer(gpus=1, max_epochs=22, logger=wandb_logger, callbacks=[early_stopping],\n",
    "                         checkpoint_callback=None)\n",
    "    return trainer, model_chekpoint"
   ]
  },
  {
   "cell_type": "markdown",
   "metadata": {},
   "source": [
    "### Finding optimal parameters to have consistent FLOPS/Params-number steps (yes, by hand)"
   ]
  },
  {
   "cell_type": "code",
   "execution_count": null,
   "metadata": {},
   "outputs": [],
   "source": [
    "macs_list, pars_list = [], []\n",
    "for block_size in (3,9,15,21,27,33):\n",
    "    config = configure_ResNet(num_bundles=3, blocks_in_bundle=(3,block_size,3), channels=(3,16,16,32,64))\n",
    "    M = ResNetCifar(config)\n",
    "    with torch.cuda.device(0):\n",
    "        macs, pars = get_model_complexity_info(M, (3,32,32), as_strings=False, print_per_layer_stat=False, verbose=False)\n",
    "        print(block_size, macs, pars)\n",
    "        macs_list.append(macs)\n",
    "        pars_list.append(pars)\n",
    "print([x2-x1 for x1,x2 in zip(pars_list[:-1], pars_list[1:])])\n",
    "print([x2-x1 for x1,x2 in zip(macs_list[:-1], macs_list[1:])])\n",
    "\n",
    "macs_list, pars_list = [], []\n",
    "for channel_mid in (32, 56, 74, 88, 100, 110):\n",
    "    config = configure_ResNet(num_bundles=3, blocks_in_bundle=(3,3,3), channels=(3,16,16,channel_mid,64))\n",
    "    M = ResNetCifar(config)\n",
    "    with torch.cuda.device(0):\n",
    "        macs, pars = get_model_complexity_info(M, (3,32,32), as_strings=False, print_per_layer_stat=False, verbose=False)\n",
    "        print(block_size, macs, pars)\n",
    "        macs_list.append(macs)\n",
    "        pars_list.append(pars)\n",
    "print([x2-x1 for x1,x2 in zip(pars_list[:-1], pars_list[1:])])\n",
    "print([x2-x1 for x1,x2 in zip(macs_list[:-1], macs_list[1:])])"
   ]
  },
  {
   "cell_type": "markdown",
   "metadata": {},
   "source": [
    "### Preparing model configs"
   ]
  },
  {
   "cell_type": "code",
   "execution_count": 93,
   "metadata": {},
   "outputs": [],
   "source": [
    "Model_configs = {}\n",
    "tags = []\n",
    "for block_size in (3,9,15,21,27,33):\n",
    "    for drop in (0, 0.02):\n",
    "        config = configure_ResNet(num_bundles=3, blocks_in_bundle=(3,block_size,3),\n",
    "                                  channels=(3,16,16,32,64), dropout_rate_2d=drop)\n",
    "        Model_configs[f'ResNet-depth-mid-blocks-{block_size}-drop-{drop}'] = config\n",
    "        tags.append(('depth', 'drop-Yes' if drop>0 else 'drop-No'))\n",
    "for mid_ch in (32, 56, 74, 88, 100, 110):\n",
    "    for drop in (0, 0.02):\n",
    "        config = configure_ResNet(num_bundles=3, blocks_in_bundle=(3,3,3),\n",
    "                                  channels=(3,16,16,mid_ch,64), dropout_rate_2d=drop)\n",
    "        Model_configs[f'ResNet-breadth-mid-chan-{mid_ch}-drop-{drop}'] = config\n",
    "        tags.append(('breadth', 'drop-Yes' if drop>0 else 'drop-No'))"
   ]
  },
  {
   "cell_type": "markdown",
   "metadata": {},
   "source": [
    "### Running all models"
   ]
  },
  {
   "cell_type": "code",
   "execution_count": 110,
   "metadata": {},
   "outputs": [
    {
     "name": "stdout",
     "output_type": "stream",
     "text": [
      "run_name: ResNet-breadth-mid-chan-56-drop-0\n",
      "run 0 out of 8, 0.00 finished!\n"
     ]
    },
    {
     "name": "stderr",
     "output_type": "stream",
     "text": [
      "GPU available: True, used: True\n",
      "No environment variable for node rank defined. Set as 0.\n",
      "CUDA_VISIBLE_DEVICES: [0]\n"
     ]
    },
    {
     "name": "stdout",
     "output_type": "stream",
     "text": [
      "Starting training for 22 epochs with early stopping...\n",
      "\n",
      "Files already downloaded and verified\n",
      "Files already downloaded and verified\n"
     ]
    },
    {
     "data": {
      "text/html": [
       "\n",
       "            Using <a href=\"https://wandb.com\" target=\"_blank\">Weights & Biases</a> in dryrun mode. Not logging results to the cloud.<br/>\n",
       "            Call wandb.login() to authenticate this machine.<br/>\n",
       "        "
      ],
      "text/plain": [
       "<IPython.core.display.HTML object>"
      ]
     },
     "metadata": {},
     "output_type": "display_data"
    },
    {
     "name": "stderr",
     "output_type": "stream",
     "text": [
      "wandb: Wandb version 0.9.1 is available!  To upgrade, please run:\n",
      "wandb:  $ pip install wandb --upgrade\n",
      "\n",
      "   | Name                  | Type        | Params\n",
      "--------------------------------------------------\n",
      "0  | FirstConv             | ConvBlock   | 480   \n",
      "1  | FirstConv.Conv2d      | Conv2d      | 448   \n",
      "2  | FirstConv.BatchNorm2d | BatchNorm2d | 32    \n",
      "3  | cv_bundle1            | Sequential  | 14 K  \n",
      "4  | cv_bundle1.0          | ResNetBlock | 4 K   \n",
      "5  | cv_bundle1.0.conv1    | Conv2d      | 2 K   \n",
      "6  | cv_bundle1.0.conv2    | Conv2d      | 2 K   \n",
      "7  | cv_bundle1.0.bn1      | BatchNorm2d | 32    \n",
      "8  | cv_bundle1.0.bn2      | BatchNorm2d | 32    \n",
      "9  | cv_bundle1.1          | ResNetBlock | 4 K   \n",
      "10 | cv_bundle1.1.conv1    | Conv2d      | 2 K   \n",
      "11 | cv_bundle1.1.conv2    | Conv2d      | 2 K   \n",
      "12 | cv_bundle1.1.bn1      | BatchNorm2d | 32    \n",
      "13 | cv_bundle1.1.bn2      | BatchNorm2d | 32    \n",
      "14 | cv_bundle1.2          | ResNetBlock | 4 K   \n",
      "15 | cv_bundle1.2.conv1    | Conv2d      | 2 K   \n",
      "16 | cv_bundle1.2.conv2    | Conv2d      | 2 K   \n",
      "17 | cv_bundle1.2.bn1      | BatchNorm2d | 32    \n",
      "18 | cv_bundle1.2.bn2      | BatchNorm2d | 32    \n",
      "19 | cv_bundle2            | Sequential  | 150 K \n",
      "20 | cv_bundle2.0          | ResNetBlock | 36 K  \n",
      "21 | cv_bundle2.0.conv1    | Conv2d      | 8 K   \n",
      "22 | cv_bundle2.0.conv2    | Conv2d      | 28 K  \n",
      "23 | cv_bundle2.0.bn1      | BatchNorm2d | 112   \n",
      "24 | cv_bundle2.0.bn2      | BatchNorm2d | 112   \n",
      "25 | cv_bundle2.1          | ResNetBlock | 56 K  \n",
      "26 | cv_bundle2.1.conv1    | Conv2d      | 28 K  \n",
      "27 | cv_bundle2.1.conv2    | Conv2d      | 28 K  \n",
      "28 | cv_bundle2.1.bn1      | BatchNorm2d | 112   \n",
      "29 | cv_bundle2.1.bn2      | BatchNorm2d | 112   \n",
      "30 | cv_bundle2.2          | ResNetBlock | 56 K  \n",
      "31 | cv_bundle2.2.conv1    | Conv2d      | 28 K  \n",
      "32 | cv_bundle2.2.conv2    | Conv2d      | 28 K  \n",
      "33 | cv_bundle2.2.bn1      | BatchNorm2d | 112   \n",
      "34 | cv_bundle2.2.bn2      | BatchNorm2d | 112   \n",
      "35 | cv_bundle3            | Sequential  | 217 K \n",
      "36 | cv_bundle3.0          | ResNetBlock | 69 K  \n",
      "37 | cv_bundle3.0.conv1    | Conv2d      | 32 K  \n",
      "38 | cv_bundle3.0.conv2    | Conv2d      | 36 K  \n",
      "39 | cv_bundle3.0.bn1      | BatchNorm2d | 128   \n",
      "40 | cv_bundle3.0.bn2      | BatchNorm2d | 128   \n",
      "41 | cv_bundle3.1          | ResNetBlock | 74 K  \n",
      "42 | cv_bundle3.1.conv1    | Conv2d      | 36 K  \n",
      "43 | cv_bundle3.1.conv2    | Conv2d      | 36 K  \n",
      "44 | cv_bundle3.1.bn1      | BatchNorm2d | 128   \n",
      "45 | cv_bundle3.1.bn2      | BatchNorm2d | 128   \n",
      "46 | cv_bundle3.2          | ResNetBlock | 74 K  \n",
      "47 | cv_bundle3.2.conv1    | Conv2d      | 36 K  \n",
      "48 | cv_bundle3.2.conv2    | Conv2d      | 36 K  \n",
      "49 | cv_bundle3.2.bn1      | BatchNorm2d | 128   \n",
      "50 | cv_bundle3.2.bn2      | BatchNorm2d | 128   \n",
      "51 | FcBlock               | Linear      | 650   \n",
      "52 | AvgPool2d             | AvgPool2d   | 0     \n"
     ]
    },
    {
     "data": {
      "application/vnd.jupyter.widget-view+json": {
       "model_id": "799c4343cb83437c89a32cde55a288e5",
       "version_major": 2,
       "version_minor": 0
      },
      "text/plain": [
       "HBox(children=(FloatProgress(value=1.0, bar_style='info', description='Validation sanity check', layout=Layout…"
      ]
     },
     "metadata": {},
     "output_type": "display_data"
    },
    {
     "data": {
      "application/vnd.jupyter.widget-view+json": {
       "model_id": "bfaeef68eefc4f3a85cbf0f0c8ac47d1",
       "version_major": 2,
       "version_minor": 0
      },
      "text/plain": [
       "HBox(children=(FloatProgress(value=1.0, bar_style='info', description='Training', layout=Layout(flex='2'), max…"
      ]
     },
     "metadata": {},
     "output_type": "display_data"
    },
    {
     "name": "stderr",
     "output_type": "stream",
     "text": [
      "wandb: WARNING Adding to old History rows isn't currently supported.  Step 0 < 1; dropping {'train_loss': 3.945166826248169, 'train_acc': 0.09, 'epoch': 0}.\n"
     ]
    },
    {
     "data": {
      "application/vnd.jupyter.widget-view+json": {
       "model_id": "5a54d86aafad415f9f40d9b175335a74",
       "version_major": 2,
       "version_minor": 0
      },
      "text/plain": [
       "HBox(children=(FloatProgress(value=1.0, bar_style='info', description='Validating', layout=Layout(flex='2'), m…"
      ]
     },
     "metadata": {},
     "output_type": "display_data"
    },
    {
     "data": {
      "application/vnd.jupyter.widget-view+json": {
       "model_id": "4523ddcbaaac4a299dfedcf8140555a0",
       "version_major": 2,
       "version_minor": 0
      },
      "text/plain": [
       "HBox(children=(FloatProgress(value=1.0, bar_style='info', description='Validating', layout=Layout(flex='2'), m…"
      ]
     },
     "metadata": {},
     "output_type": "display_data"
    },
    {
     "data": {
      "application/vnd.jupyter.widget-view+json": {
       "model_id": "0fa7373c831b4203924f03aa46f165ff",
       "version_major": 2,
       "version_minor": 0
      },
      "text/plain": [
       "HBox(children=(FloatProgress(value=1.0, bar_style='info', description='Validating', layout=Layout(flex='2'), m…"
      ]
     },
     "metadata": {},
     "output_type": "display_data"
    },
    {
     "data": {
      "application/vnd.jupyter.widget-view+json": {
       "model_id": "68a28aa3db0f4cb8a8d1905701cc045e",
       "version_major": 2,
       "version_minor": 0
      },
      "text/plain": [
       "HBox(children=(FloatProgress(value=1.0, bar_style='info', description='Validating', layout=Layout(flex='2'), m…"
      ]
     },
     "metadata": {},
     "output_type": "display_data"
    },
    {
     "data": {
      "application/vnd.jupyter.widget-view+json": {
       "model_id": "890cd72d015f441c82025495ee2f8753",
       "version_major": 2,
       "version_minor": 0
      },
      "text/plain": [
       "HBox(children=(FloatProgress(value=1.0, bar_style='info', description='Validating', layout=Layout(flex='2'), m…"
      ]
     },
     "metadata": {},
     "output_type": "display_data"
    },
    {
     "data": {
      "application/vnd.jupyter.widget-view+json": {
       "model_id": "edbd0b5a1ff541eea9dfeadca3202499",
       "version_major": 2,
       "version_minor": 0
      },
      "text/plain": [
       "HBox(children=(FloatProgress(value=1.0, bar_style='info', description='Validating', layout=Layout(flex='2'), m…"
      ]
     },
     "metadata": {},
     "output_type": "display_data"
    },
    {
     "data": {
      "application/vnd.jupyter.widget-view+json": {
       "model_id": "45cfd49198e34cc19375605edfefc410",
       "version_major": 2,
       "version_minor": 0
      },
      "text/plain": [
       "HBox(children=(FloatProgress(value=1.0, bar_style='info', description='Validating', layout=Layout(flex='2'), m…"
      ]
     },
     "metadata": {},
     "output_type": "display_data"
    },
    {
     "data": {
      "application/vnd.jupyter.widget-view+json": {
       "model_id": "8378e3e1b7d142f1b8940e8dd8787238",
       "version_major": 2,
       "version_minor": 0
      },
      "text/plain": [
       "HBox(children=(FloatProgress(value=1.0, bar_style='info', description='Validating', layout=Layout(flex='2'), m…"
      ]
     },
     "metadata": {},
     "output_type": "display_data"
    },
    {
     "data": {
      "application/vnd.jupyter.widget-view+json": {
       "model_id": "d4a9b7ee99b04673a011ac8b598c85cd",
       "version_major": 2,
       "version_minor": 0
      },
      "text/plain": [
       "HBox(children=(FloatProgress(value=1.0, bar_style='info', description='Validating', layout=Layout(flex='2'), m…"
      ]
     },
     "metadata": {},
     "output_type": "display_data"
    },
    {
     "data": {
      "application/vnd.jupyter.widget-view+json": {
       "model_id": "2135f4a7fded4581a5c91aa8c3e8d5ce",
       "version_major": 2,
       "version_minor": 0
      },
      "text/plain": [
       "HBox(children=(FloatProgress(value=1.0, bar_style='info', description='Validating', layout=Layout(flex='2'), m…"
      ]
     },
     "metadata": {},
     "output_type": "display_data"
    },
    {
     "data": {
      "application/vnd.jupyter.widget-view+json": {
       "model_id": "15727a20a1e84381a7f62c88b31df3e8",
       "version_major": 2,
       "version_minor": 0
      },
      "text/plain": [
       "HBox(children=(FloatProgress(value=1.0, bar_style='info', description='Validating', layout=Layout(flex='2'), m…"
      ]
     },
     "metadata": {},
     "output_type": "display_data"
    },
    {
     "data": {
      "application/vnd.jupyter.widget-view+json": {
       "model_id": "05db3b77dcc544c89024360cc4004735",
       "version_major": 2,
       "version_minor": 0
      },
      "text/plain": [
       "HBox(children=(FloatProgress(value=1.0, bar_style='info', description='Validating', layout=Layout(flex='2'), m…"
      ]
     },
     "metadata": {},
     "output_type": "display_data"
    },
    {
     "data": {
      "application/vnd.jupyter.widget-view+json": {
       "model_id": "f3c1ac3271d24e8999afb01e2d328922",
       "version_major": 2,
       "version_minor": 0
      },
      "text/plain": [
       "HBox(children=(FloatProgress(value=1.0, bar_style='info', description='Validating', layout=Layout(flex='2'), m…"
      ]
     },
     "metadata": {},
     "output_type": "display_data"
    },
    {
     "data": {
      "application/vnd.jupyter.widget-view+json": {
       "model_id": "470ee6f84a0e43c7ac4136e4477afc8f",
       "version_major": 2,
       "version_minor": 0
      },
      "text/plain": [
       "HBox(children=(FloatProgress(value=1.0, bar_style='info', description='Validating', layout=Layout(flex='2'), m…"
      ]
     },
     "metadata": {},
     "output_type": "display_data"
    },
    {
     "data": {
      "application/vnd.jupyter.widget-view+json": {
       "model_id": "8f19c3b5d32043d4a044727251a5538a",
       "version_major": 2,
       "version_minor": 0
      },
      "text/plain": [
       "HBox(children=(FloatProgress(value=1.0, bar_style='info', description='Validating', layout=Layout(flex='2'), m…"
      ]
     },
     "metadata": {},
     "output_type": "display_data"
    },
    {
     "data": {
      "application/vnd.jupyter.widget-view+json": {
       "model_id": "ebf7c63e25a349a4a1cdfd22cf1985a4",
       "version_major": 2,
       "version_minor": 0
      },
      "text/plain": [
       "HBox(children=(FloatProgress(value=1.0, bar_style='info', description='Validating', layout=Layout(flex='2'), m…"
      ]
     },
     "metadata": {},
     "output_type": "display_data"
    },
    {
     "data": {
      "application/vnd.jupyter.widget-view+json": {
       "model_id": "ca65a622431b4969a42d3a7ce9b4a104",
       "version_major": 2,
       "version_minor": 0
      },
      "text/plain": [
       "HBox(children=(FloatProgress(value=1.0, bar_style='info', description='Validating', layout=Layout(flex='2'), m…"
      ]
     },
     "metadata": {},
     "output_type": "display_data"
    },
    {
     "data": {
      "application/vnd.jupyter.widget-view+json": {
       "model_id": "9909ee3f0eb7428089b27f4ae088b323",
       "version_major": 2,
       "version_minor": 0
      },
      "text/plain": [
       "HBox(children=(FloatProgress(value=1.0, bar_style='info', description='Validating', layout=Layout(flex='2'), m…"
      ]
     },
     "metadata": {},
     "output_type": "display_data"
    },
    {
     "data": {
      "application/vnd.jupyter.widget-view+json": {
       "model_id": "2ae81cc4e6c94c5b9e7236df8052aed6",
       "version_major": 2,
       "version_minor": 0
      },
      "text/plain": [
       "HBox(children=(FloatProgress(value=1.0, bar_style='info', description='Validating', layout=Layout(flex='2'), m…"
      ]
     },
     "metadata": {},
     "output_type": "display_data"
    },
    {
     "data": {
      "application/vnd.jupyter.widget-view+json": {
       "model_id": "c53f0f2204cb4918aee756cc7dfaed36",
       "version_major": 2,
       "version_minor": 0
      },
      "text/plain": [
       "HBox(children=(FloatProgress(value=1.0, bar_style='info', description='Validating', layout=Layout(flex='2'), m…"
      ]
     },
     "metadata": {},
     "output_type": "display_data"
    },
    {
     "data": {
      "application/vnd.jupyter.widget-view+json": {
       "model_id": "b4e9633edd96485dae54dfcd0e44ed12",
       "version_major": 2,
       "version_minor": 0
      },
      "text/plain": [
       "HBox(children=(FloatProgress(value=1.0, bar_style='info', description='Validating', layout=Layout(flex='2'), m…"
      ]
     },
     "metadata": {},
     "output_type": "display_data"
    },
    {
     "data": {
      "application/vnd.jupyter.widget-view+json": {
       "model_id": "6465b74c32cc42938f8f8fe9301ca8e6",
       "version_major": 2,
       "version_minor": 0
      },
      "text/plain": [
       "HBox(children=(FloatProgress(value=1.0, bar_style='info', description='Validating', layout=Layout(flex='2'), m…"
      ]
     },
     "metadata": {},
     "output_type": "display_data"
    },
    {
     "name": "stderr",
     "output_type": "stream",
     "text": [
      "GPU available: True, used: True\n",
      "No environment variable for node rank defined. Set as 0.\n",
      "CUDA_VISIBLE_DEVICES: [0]\n"
     ]
    },
    {
     "name": "stdout",
     "output_type": "stream",
     "text": [
      "\n",
      "run_name: ResNet-breadth-mid-chan-56-drop-0.02\n",
      "run 1 out of 8, 0.12 finished!\n",
      "Starting training for 22 epochs with early stopping...\n",
      "\n",
      "Files already downloaded and verified\n",
      "Files already downloaded and verified\n"
     ]
    },
    {
     "data": {
      "text/html": [
       "\n",
       "            Using <a href=\"https://wandb.com\" target=\"_blank\">Weights & Biases</a> in dryrun mode. Not logging results to the cloud.<br/>\n",
       "            Call wandb.login() to authenticate this machine.<br/>\n",
       "        "
      ],
      "text/plain": [
       "<IPython.core.display.HTML object>"
      ]
     },
     "metadata": {},
     "output_type": "display_data"
    },
    {
     "name": "stderr",
     "output_type": "stream",
     "text": [
      "wandb: Wandb version 0.9.1 is available!  To upgrade, please run:\n",
      "wandb:  $ pip install wandb --upgrade\n",
      "\n",
      "   | Name                  | Type        | Params\n",
      "--------------------------------------------------\n",
      "0  | FirstConv             | ConvBlock   | 480   \n",
      "1  | FirstConv.Conv2d      | Conv2d      | 448   \n",
      "2  | FirstConv.BatchNorm2d | BatchNorm2d | 32    \n",
      "3  | cv_bundle1            | Sequential  | 14 K  \n",
      "4  | cv_bundle1.0          | ResNetBlock | 4 K   \n",
      "5  | cv_bundle1.0.conv1    | Conv2d      | 2 K   \n",
      "6  | cv_bundle1.0.conv2    | Conv2d      | 2 K   \n",
      "7  | cv_bundle1.0.bn1      | BatchNorm2d | 32    \n",
      "8  | cv_bundle1.0.bn2      | BatchNorm2d | 32    \n",
      "9  | cv_bundle1.0.dropout1 | Dropout2d   | 0     \n",
      "10 | cv_bundle1.0.dropout2 | Dropout2d   | 0     \n",
      "11 | cv_bundle1.1          | ResNetBlock | 4 K   \n",
      "12 | cv_bundle1.1.conv1    | Conv2d      | 2 K   \n",
      "13 | cv_bundle1.1.conv2    | Conv2d      | 2 K   \n",
      "14 | cv_bundle1.1.bn1      | BatchNorm2d | 32    \n",
      "15 | cv_bundle1.1.bn2      | BatchNorm2d | 32    \n",
      "16 | cv_bundle1.1.dropout1 | Dropout2d   | 0     \n",
      "17 | cv_bundle1.1.dropout2 | Dropout2d   | 0     \n",
      "18 | cv_bundle1.2          | ResNetBlock | 4 K   \n",
      "19 | cv_bundle1.2.conv1    | Conv2d      | 2 K   \n",
      "20 | cv_bundle1.2.conv2    | Conv2d      | 2 K   \n",
      "21 | cv_bundle1.2.bn1      | BatchNorm2d | 32    \n",
      "22 | cv_bundle1.2.bn2      | BatchNorm2d | 32    \n",
      "23 | cv_bundle1.2.dropout1 | Dropout2d   | 0     \n",
      "24 | cv_bundle1.2.dropout2 | Dropout2d   | 0     \n",
      "25 | cv_bundle2            | Sequential  | 150 K \n",
      "26 | cv_bundle2.0          | ResNetBlock | 36 K  \n",
      "27 | cv_bundle2.0.conv1    | Conv2d      | 8 K   \n",
      "28 | cv_bundle2.0.conv2    | Conv2d      | 28 K  \n",
      "29 | cv_bundle2.0.bn1      | BatchNorm2d | 112   \n",
      "30 | cv_bundle2.0.bn2      | BatchNorm2d | 112   \n",
      "31 | cv_bundle2.0.dropout1 | Dropout2d   | 0     \n",
      "32 | cv_bundle2.0.dropout2 | Dropout2d   | 0     \n",
      "33 | cv_bundle2.1          | ResNetBlock | 56 K  \n",
      "34 | cv_bundle2.1.conv1    | Conv2d      | 28 K  \n",
      "35 | cv_bundle2.1.conv2    | Conv2d      | 28 K  \n",
      "36 | cv_bundle2.1.bn1      | BatchNorm2d | 112   \n",
      "37 | cv_bundle2.1.bn2      | BatchNorm2d | 112   \n",
      "38 | cv_bundle2.1.dropout1 | Dropout2d   | 0     \n",
      "39 | cv_bundle2.1.dropout2 | Dropout2d   | 0     \n",
      "40 | cv_bundle2.2          | ResNetBlock | 56 K  \n",
      "41 | cv_bundle2.2.conv1    | Conv2d      | 28 K  \n",
      "42 | cv_bundle2.2.conv2    | Conv2d      | 28 K  \n",
      "43 | cv_bundle2.2.bn1      | BatchNorm2d | 112   \n",
      "44 | cv_bundle2.2.bn2      | BatchNorm2d | 112   \n",
      "45 | cv_bundle2.2.dropout1 | Dropout2d   | 0     \n",
      "46 | cv_bundle2.2.dropout2 | Dropout2d   | 0     \n",
      "47 | cv_bundle3            | Sequential  | 217 K \n",
      "48 | cv_bundle3.0          | ResNetBlock | 69 K  \n",
      "49 | cv_bundle3.0.conv1    | Conv2d      | 32 K  \n",
      "50 | cv_bundle3.0.conv2    | Conv2d      | 36 K  \n",
      "51 | cv_bundle3.0.bn1      | BatchNorm2d | 128   \n",
      "52 | cv_bundle3.0.bn2      | BatchNorm2d | 128   \n",
      "53 | cv_bundle3.0.dropout1 | Dropout2d   | 0     \n",
      "54 | cv_bundle3.0.dropout2 | Dropout2d   | 0     \n",
      "55 | cv_bundle3.1          | ResNetBlock | 74 K  \n",
      "56 | cv_bundle3.1.conv1    | Conv2d      | 36 K  \n",
      "57 | cv_bundle3.1.conv2    | Conv2d      | 36 K  \n",
      "58 | cv_bundle3.1.bn1      | BatchNorm2d | 128   \n",
      "59 | cv_bundle3.1.bn2      | BatchNorm2d | 128   \n",
      "60 | cv_bundle3.1.dropout1 | Dropout2d   | 0     \n",
      "61 | cv_bundle3.1.dropout2 | Dropout2d   | 0     \n",
      "62 | cv_bundle3.2          | ResNetBlock | 74 K  \n",
      "63 | cv_bundle3.2.conv1    | Conv2d      | 36 K  \n",
      "64 | cv_bundle3.2.conv2    | Conv2d      | 36 K  \n",
      "65 | cv_bundle3.2.bn1      | BatchNorm2d | 128   \n",
      "66 | cv_bundle3.2.bn2      | BatchNorm2d | 128   \n",
      "67 | cv_bundle3.2.dropout1 | Dropout2d   | 0     \n",
      "68 | cv_bundle3.2.dropout2 | Dropout2d   | 0     \n",
      "69 | FcBlock               | Linear      | 650   \n",
      "70 | AvgPool2d             | AvgPool2d   | 0     \n"
     ]
    },
    {
     "data": {
      "application/vnd.jupyter.widget-view+json": {
       "model_id": "ef0c5fe1c74249f9bd79d4a271646168",
       "version_major": 2,
       "version_minor": 0
      },
      "text/plain": [
       "HBox(children=(FloatProgress(value=1.0, bar_style='info', description='Validation sanity check', layout=Layout…"
      ]
     },
     "metadata": {},
     "output_type": "display_data"
    },
    {
     "data": {
      "application/vnd.jupyter.widget-view+json": {
       "model_id": "dc59f65be25046ff94db4b5c1362adfa",
       "version_major": 2,
       "version_minor": 0
      },
      "text/plain": [
       "HBox(children=(FloatProgress(value=1.0, bar_style='info', description='Training', layout=Layout(flex='2'), max…"
      ]
     },
     "metadata": {},
     "output_type": "display_data"
    },
    {
     "name": "stderr",
     "output_type": "stream",
     "text": [
      "wandb: WARNING Adding to old History rows isn't currently supported.  Step 0 < 1; dropping {'train_loss': 3.6589365005493164, 'train_acc': 0.1, 'epoch': 0}.\n"
     ]
    },
    {
     "data": {
      "application/vnd.jupyter.widget-view+json": {
       "model_id": "9af55de06dd14adf817848a50eb47c8f",
       "version_major": 2,
       "version_minor": 0
      },
      "text/plain": [
       "HBox(children=(FloatProgress(value=1.0, bar_style='info', description='Validating', layout=Layout(flex='2'), m…"
      ]
     },
     "metadata": {},
     "output_type": "display_data"
    },
    {
     "data": {
      "application/vnd.jupyter.widget-view+json": {
       "model_id": "56275248c75645eea44a5f69b0a5da85",
       "version_major": 2,
       "version_minor": 0
      },
      "text/plain": [
       "HBox(children=(FloatProgress(value=1.0, bar_style='info', description='Validating', layout=Layout(flex='2'), m…"
      ]
     },
     "metadata": {},
     "output_type": "display_data"
    },
    {
     "data": {
      "application/vnd.jupyter.widget-view+json": {
       "model_id": "e2cae6c303e840afabf87484a2f4078f",
       "version_major": 2,
       "version_minor": 0
      },
      "text/plain": [
       "HBox(children=(FloatProgress(value=1.0, bar_style='info', description='Validating', layout=Layout(flex='2'), m…"
      ]
     },
     "metadata": {},
     "output_type": "display_data"
    },
    {
     "data": {
      "application/vnd.jupyter.widget-view+json": {
       "model_id": "3e83ab7b86644964a4a860e4fea59719",
       "version_major": 2,
       "version_minor": 0
      },
      "text/plain": [
       "HBox(children=(FloatProgress(value=1.0, bar_style='info', description='Validating', layout=Layout(flex='2'), m…"
      ]
     },
     "metadata": {},
     "output_type": "display_data"
    },
    {
     "data": {
      "application/vnd.jupyter.widget-view+json": {
       "model_id": "55f53803becd4c12b6c01345280b2068",
       "version_major": 2,
       "version_minor": 0
      },
      "text/plain": [
       "HBox(children=(FloatProgress(value=1.0, bar_style='info', description='Validating', layout=Layout(flex='2'), m…"
      ]
     },
     "metadata": {},
     "output_type": "display_data"
    },
    {
     "data": {
      "application/vnd.jupyter.widget-view+json": {
       "model_id": "e1f888900a3743dea23a8c07a76b1402",
       "version_major": 2,
       "version_minor": 0
      },
      "text/plain": [
       "HBox(children=(FloatProgress(value=1.0, bar_style='info', description='Validating', layout=Layout(flex='2'), m…"
      ]
     },
     "metadata": {},
     "output_type": "display_data"
    },
    {
     "data": {
      "application/vnd.jupyter.widget-view+json": {
       "model_id": "5b7ff1be534248c5a40c2c92c004d8ee",
       "version_major": 2,
       "version_minor": 0
      },
      "text/plain": [
       "HBox(children=(FloatProgress(value=1.0, bar_style='info', description='Validating', layout=Layout(flex='2'), m…"
      ]
     },
     "metadata": {},
     "output_type": "display_data"
    },
    {
     "data": {
      "application/vnd.jupyter.widget-view+json": {
       "model_id": "d000602891764083ad14e6dc9eae07b3",
       "version_major": 2,
       "version_minor": 0
      },
      "text/plain": [
       "HBox(children=(FloatProgress(value=1.0, bar_style='info', description='Validating', layout=Layout(flex='2'), m…"
      ]
     },
     "metadata": {},
     "output_type": "display_data"
    },
    {
     "data": {
      "application/vnd.jupyter.widget-view+json": {
       "model_id": "551acdbb89d24d0793ffae6ef7e75a68",
       "version_major": 2,
       "version_minor": 0
      },
      "text/plain": [
       "HBox(children=(FloatProgress(value=1.0, bar_style='info', description='Validating', layout=Layout(flex='2'), m…"
      ]
     },
     "metadata": {},
     "output_type": "display_data"
    },
    {
     "data": {
      "application/vnd.jupyter.widget-view+json": {
       "model_id": "f9cb26cbf9be44508e9e23d2579f36c1",
       "version_major": 2,
       "version_minor": 0
      },
      "text/plain": [
       "HBox(children=(FloatProgress(value=1.0, bar_style='info', description='Validating', layout=Layout(flex='2'), m…"
      ]
     },
     "metadata": {},
     "output_type": "display_data"
    },
    {
     "data": {
      "application/vnd.jupyter.widget-view+json": {
       "model_id": "d3b7b50da2d54c9ea96944e52197db7c",
       "version_major": 2,
       "version_minor": 0
      },
      "text/plain": [
       "HBox(children=(FloatProgress(value=1.0, bar_style='info', description='Validating', layout=Layout(flex='2'), m…"
      ]
     },
     "metadata": {},
     "output_type": "display_data"
    },
    {
     "data": {
      "application/vnd.jupyter.widget-view+json": {
       "model_id": "ce3dee55bada44689aceaec5ecaaf1ac",
       "version_major": 2,
       "version_minor": 0
      },
      "text/plain": [
       "HBox(children=(FloatProgress(value=1.0, bar_style='info', description='Validating', layout=Layout(flex='2'), m…"
      ]
     },
     "metadata": {},
     "output_type": "display_data"
    },
    {
     "data": {
      "application/vnd.jupyter.widget-view+json": {
       "model_id": "d0691fcb18ee4b82852837d774b02d27",
       "version_major": 2,
       "version_minor": 0
      },
      "text/plain": [
       "HBox(children=(FloatProgress(value=1.0, bar_style='info', description='Validating', layout=Layout(flex='2'), m…"
      ]
     },
     "metadata": {},
     "output_type": "display_data"
    },
    {
     "data": {
      "application/vnd.jupyter.widget-view+json": {
       "model_id": "13ad74d9a7d741f5b67144322a7a1963",
       "version_major": 2,
       "version_minor": 0
      },
      "text/plain": [
       "HBox(children=(FloatProgress(value=1.0, bar_style='info', description='Validating', layout=Layout(flex='2'), m…"
      ]
     },
     "metadata": {},
     "output_type": "display_data"
    },
    {
     "data": {
      "application/vnd.jupyter.widget-view+json": {
       "model_id": "5645306c93104bf8bce8699946d88ca9",
       "version_major": 2,
       "version_minor": 0
      },
      "text/plain": [
       "HBox(children=(FloatProgress(value=1.0, bar_style='info', description='Validating', layout=Layout(flex='2'), m…"
      ]
     },
     "metadata": {},
     "output_type": "display_data"
    },
    {
     "data": {
      "application/vnd.jupyter.widget-view+json": {
       "model_id": "f6c2c73107be403baf75d51188a6fb8d",
       "version_major": 2,
       "version_minor": 0
      },
      "text/plain": [
       "HBox(children=(FloatProgress(value=1.0, bar_style='info', description='Validating', layout=Layout(flex='2'), m…"
      ]
     },
     "metadata": {},
     "output_type": "display_data"
    },
    {
     "data": {
      "application/vnd.jupyter.widget-view+json": {
       "model_id": "804e99c889db4bc8aa9694abc172f227",
       "version_major": 2,
       "version_minor": 0
      },
      "text/plain": [
       "HBox(children=(FloatProgress(value=1.0, bar_style='info', description='Validating', layout=Layout(flex='2'), m…"
      ]
     },
     "metadata": {},
     "output_type": "display_data"
    },
    {
     "data": {
      "application/vnd.jupyter.widget-view+json": {
       "model_id": "8d127152371949b5acce795d6e32241e",
       "version_major": 2,
       "version_minor": 0
      },
      "text/plain": [
       "HBox(children=(FloatProgress(value=1.0, bar_style='info', description='Validating', layout=Layout(flex='2'), m…"
      ]
     },
     "metadata": {},
     "output_type": "display_data"
    },
    {
     "data": {
      "application/vnd.jupyter.widget-view+json": {
       "model_id": "3345000d914747e794c16565b56405c3",
       "version_major": 2,
       "version_minor": 0
      },
      "text/plain": [
       "HBox(children=(FloatProgress(value=1.0, bar_style='info', description='Validating', layout=Layout(flex='2'), m…"
      ]
     },
     "metadata": {},
     "output_type": "display_data"
    },
    {
     "data": {
      "application/vnd.jupyter.widget-view+json": {
       "model_id": "7638d1840b394addb4b4d9b95c444a4a",
       "version_major": 2,
       "version_minor": 0
      },
      "text/plain": [
       "HBox(children=(FloatProgress(value=1.0, bar_style='info', description='Validating', layout=Layout(flex='2'), m…"
      ]
     },
     "metadata": {},
     "output_type": "display_data"
    },
    {
     "data": {
      "application/vnd.jupyter.widget-view+json": {
       "model_id": "b54e21800c884fdeb4404a1921cfdb9d",
       "version_major": 2,
       "version_minor": 0
      },
      "text/plain": [
       "HBox(children=(FloatProgress(value=1.0, bar_style='info', description='Validating', layout=Layout(flex='2'), m…"
      ]
     },
     "metadata": {},
     "output_type": "display_data"
    },
    {
     "data": {
      "application/vnd.jupyter.widget-view+json": {
       "model_id": "64c67837f60b4822b4ec533c63a7bfe0",
       "version_major": 2,
       "version_minor": 0
      },
      "text/plain": [
       "HBox(children=(FloatProgress(value=1.0, bar_style='info', description='Validating', layout=Layout(flex='2'), m…"
      ]
     },
     "metadata": {},
     "output_type": "display_data"
    },
    {
     "name": "stderr",
     "output_type": "stream",
     "text": [
      "GPU available: True, used: True\n",
      "No environment variable for node rank defined. Set as 0.\n",
      "CUDA_VISIBLE_DEVICES: [0]\n"
     ]
    },
    {
     "name": "stdout",
     "output_type": "stream",
     "text": [
      "\n",
      "run_name: ResNet-breadth-mid-chan-74-drop-0\n",
      "run 2 out of 8, 0.25 finished!\n",
      "Starting training for 22 epochs with early stopping...\n",
      "\n",
      "Files already downloaded and verified\n",
      "Files already downloaded and verified\n"
     ]
    },
    {
     "data": {
      "text/html": [
       "\n",
       "            Using <a href=\"https://wandb.com\" target=\"_blank\">Weights & Biases</a> in dryrun mode. Not logging results to the cloud.<br/>\n",
       "            Call wandb.login() to authenticate this machine.<br/>\n",
       "        "
      ],
      "text/plain": [
       "<IPython.core.display.HTML object>"
      ]
     },
     "metadata": {},
     "output_type": "display_data"
    },
    {
     "name": "stderr",
     "output_type": "stream",
     "text": [
      "wandb: Wandb version 0.9.1 is available!  To upgrade, please run:\n",
      "wandb:  $ pip install wandb --upgrade\n",
      "\n",
      "   | Name                  | Type        | Params\n",
      "--------------------------------------------------\n",
      "0  | FirstConv             | ConvBlock   | 480   \n",
      "1  | FirstConv.Conv2d      | Conv2d      | 448   \n",
      "2  | FirstConv.BatchNorm2d | BatchNorm2d | 32    \n",
      "3  | cv_bundle1            | Sequential  | 14 K  \n",
      "4  | cv_bundle1.0          | ResNetBlock | 4 K   \n",
      "5  | cv_bundle1.0.conv1    | Conv2d      | 2 K   \n",
      "6  | cv_bundle1.0.conv2    | Conv2d      | 2 K   \n",
      "7  | cv_bundle1.0.bn1      | BatchNorm2d | 32    \n",
      "8  | cv_bundle1.0.bn2      | BatchNorm2d | 32    \n",
      "9  | cv_bundle1.1          | ResNetBlock | 4 K   \n",
      "10 | cv_bundle1.1.conv1    | Conv2d      | 2 K   \n",
      "11 | cv_bundle1.1.conv2    | Conv2d      | 2 K   \n",
      "12 | cv_bundle1.1.bn1      | BatchNorm2d | 32    \n",
      "13 | cv_bundle1.1.bn2      | BatchNorm2d | 32    \n",
      "14 | cv_bundle1.2          | ResNetBlock | 4 K   \n",
      "15 | cv_bundle1.2.conv1    | Conv2d      | 2 K   \n",
      "16 | cv_bundle1.2.conv2    | Conv2d      | 2 K   \n",
      "17 | cv_bundle1.2.bn1      | BatchNorm2d | 32    \n",
      "18 | cv_bundle1.2.bn2      | BatchNorm2d | 32    \n",
      "19 | cv_bundle2            | Sequential  | 258 K \n",
      "20 | cv_bundle2.0          | ResNetBlock | 60 K  \n",
      "21 | cv_bundle2.0.conv1    | Conv2d      | 10 K  \n",
      "22 | cv_bundle2.0.conv2    | Conv2d      | 49 K  \n",
      "23 | cv_bundle2.0.bn1      | BatchNorm2d | 148   \n",
      "24 | cv_bundle2.0.bn2      | BatchNorm2d | 148   \n",
      "25 | cv_bundle2.1          | ResNetBlock | 99 K  \n",
      "26 | cv_bundle2.1.conv1    | Conv2d      | 49 K  \n",
      "27 | cv_bundle2.1.conv2    | Conv2d      | 49 K  \n",
      "28 | cv_bundle2.1.bn1      | BatchNorm2d | 148   \n",
      "29 | cv_bundle2.1.bn2      | BatchNorm2d | 148   \n",
      "30 | cv_bundle2.2          | ResNetBlock | 99 K  \n",
      "31 | cv_bundle2.2.conv1    | Conv2d      | 49 K  \n",
      "32 | cv_bundle2.2.conv2    | Conv2d      | 49 K  \n",
      "33 | cv_bundle2.2.bn1      | BatchNorm2d | 148   \n",
      "34 | cv_bundle2.2.bn2      | BatchNorm2d | 148   \n",
      "35 | cv_bundle3            | Sequential  | 228 K \n",
      "36 | cv_bundle3.0          | ResNetBlock | 79 K  \n",
      "37 | cv_bundle3.0.conv1    | Conv2d      | 42 K  \n",
      "38 | cv_bundle3.0.conv2    | Conv2d      | 36 K  \n",
      "39 | cv_bundle3.0.bn1      | BatchNorm2d | 128   \n",
      "40 | cv_bundle3.0.bn2      | BatchNorm2d | 128   \n",
      "41 | cv_bundle3.1          | ResNetBlock | 74 K  \n",
      "42 | cv_bundle3.1.conv1    | Conv2d      | 36 K  \n",
      "43 | cv_bundle3.1.conv2    | Conv2d      | 36 K  \n",
      "44 | cv_bundle3.1.bn1      | BatchNorm2d | 128   \n",
      "45 | cv_bundle3.1.bn2      | BatchNorm2d | 128   \n",
      "46 | cv_bundle3.2          | ResNetBlock | 74 K  \n",
      "47 | cv_bundle3.2.conv1    | Conv2d      | 36 K  \n",
      "48 | cv_bundle3.2.conv2    | Conv2d      | 36 K  \n",
      "49 | cv_bundle3.2.bn1      | BatchNorm2d | 128   \n",
      "50 | cv_bundle3.2.bn2      | BatchNorm2d | 128   \n",
      "51 | FcBlock               | Linear      | 650   \n",
      "52 | AvgPool2d             | AvgPool2d   | 0     \n"
     ]
    },
    {
     "data": {
      "application/vnd.jupyter.widget-view+json": {
       "model_id": "1cca0b2b269d47dfb0b53abb0a3fd70f",
       "version_major": 2,
       "version_minor": 0
      },
      "text/plain": [
       "HBox(children=(FloatProgress(value=1.0, bar_style='info', description='Validation sanity check', layout=Layout…"
      ]
     },
     "metadata": {},
     "output_type": "display_data"
    },
    {
     "data": {
      "application/vnd.jupyter.widget-view+json": {
       "model_id": "a8330568be364b6788307a131cd64bae",
       "version_major": 2,
       "version_minor": 0
      },
      "text/plain": [
       "HBox(children=(FloatProgress(value=1.0, bar_style='info', description='Training', layout=Layout(flex='2'), max…"
      ]
     },
     "metadata": {},
     "output_type": "display_data"
    },
    {
     "name": "stderr",
     "output_type": "stream",
     "text": [
      "wandb: WARNING Adding to old History rows isn't currently supported.  Step 0 < 1; dropping {'train_loss': 3.368232011795044, 'train_acc': 0.13, 'epoch': 0}.\n"
     ]
    },
    {
     "data": {
      "application/vnd.jupyter.widget-view+json": {
       "model_id": "618584e10f05444ebf59d2d498e0eefb",
       "version_major": 2,
       "version_minor": 0
      },
      "text/plain": [
       "HBox(children=(FloatProgress(value=1.0, bar_style='info', description='Validating', layout=Layout(flex='2'), m…"
      ]
     },
     "metadata": {},
     "output_type": "display_data"
    },
    {
     "data": {
      "application/vnd.jupyter.widget-view+json": {
       "model_id": "7929e00a1f2143ae84b5049b73af450d",
       "version_major": 2,
       "version_minor": 0
      },
      "text/plain": [
       "HBox(children=(FloatProgress(value=1.0, bar_style='info', description='Validating', layout=Layout(flex='2'), m…"
      ]
     },
     "metadata": {},
     "output_type": "display_data"
    },
    {
     "data": {
      "application/vnd.jupyter.widget-view+json": {
       "model_id": "2bc26e7e013d4b14830306727c29037f",
       "version_major": 2,
       "version_minor": 0
      },
      "text/plain": [
       "HBox(children=(FloatProgress(value=1.0, bar_style='info', description='Validating', layout=Layout(flex='2'), m…"
      ]
     },
     "metadata": {},
     "output_type": "display_data"
    },
    {
     "data": {
      "application/vnd.jupyter.widget-view+json": {
       "model_id": "19128797fe394904a246adb1ef5da69a",
       "version_major": 2,
       "version_minor": 0
      },
      "text/plain": [
       "HBox(children=(FloatProgress(value=1.0, bar_style='info', description='Validating', layout=Layout(flex='2'), m…"
      ]
     },
     "metadata": {},
     "output_type": "display_data"
    },
    {
     "data": {
      "application/vnd.jupyter.widget-view+json": {
       "model_id": "afcc837bb52742a2a879ac4a49ceef6a",
       "version_major": 2,
       "version_minor": 0
      },
      "text/plain": [
       "HBox(children=(FloatProgress(value=1.0, bar_style='info', description='Validating', layout=Layout(flex='2'), m…"
      ]
     },
     "metadata": {},
     "output_type": "display_data"
    },
    {
     "data": {
      "application/vnd.jupyter.widget-view+json": {
       "model_id": "79f503db732b40b3a3891aa23f27cf79",
       "version_major": 2,
       "version_minor": 0
      },
      "text/plain": [
       "HBox(children=(FloatProgress(value=1.0, bar_style='info', description='Validating', layout=Layout(flex='2'), m…"
      ]
     },
     "metadata": {},
     "output_type": "display_data"
    },
    {
     "data": {
      "application/vnd.jupyter.widget-view+json": {
       "model_id": "dee59b6231ef494eb3762dbcef710858",
       "version_major": 2,
       "version_minor": 0
      },
      "text/plain": [
       "HBox(children=(FloatProgress(value=1.0, bar_style='info', description='Validating', layout=Layout(flex='2'), m…"
      ]
     },
     "metadata": {},
     "output_type": "display_data"
    },
    {
     "data": {
      "application/vnd.jupyter.widget-view+json": {
       "model_id": "0432cd7cb7db438ba0f1d57fbde83d1d",
       "version_major": 2,
       "version_minor": 0
      },
      "text/plain": [
       "HBox(children=(FloatProgress(value=1.0, bar_style='info', description='Validating', layout=Layout(flex='2'), m…"
      ]
     },
     "metadata": {},
     "output_type": "display_data"
    },
    {
     "data": {
      "application/vnd.jupyter.widget-view+json": {
       "model_id": "fb973ffb8cd045868e28a48c32bc8a84",
       "version_major": 2,
       "version_minor": 0
      },
      "text/plain": [
       "HBox(children=(FloatProgress(value=1.0, bar_style='info', description='Validating', layout=Layout(flex='2'), m…"
      ]
     },
     "metadata": {},
     "output_type": "display_data"
    },
    {
     "data": {
      "application/vnd.jupyter.widget-view+json": {
       "model_id": "7c6a0f1e9b264a51868c7df8554e9a1f",
       "version_major": 2,
       "version_minor": 0
      },
      "text/plain": [
       "HBox(children=(FloatProgress(value=1.0, bar_style='info', description='Validating', layout=Layout(flex='2'), m…"
      ]
     },
     "metadata": {},
     "output_type": "display_data"
    },
    {
     "data": {
      "application/vnd.jupyter.widget-view+json": {
       "model_id": "d7c9ac36a6d440909805a293073aef7b",
       "version_major": 2,
       "version_minor": 0
      },
      "text/plain": [
       "HBox(children=(FloatProgress(value=1.0, bar_style='info', description='Validating', layout=Layout(flex='2'), m…"
      ]
     },
     "metadata": {},
     "output_type": "display_data"
    },
    {
     "data": {
      "application/vnd.jupyter.widget-view+json": {
       "model_id": "7c2277fc9938487c94ccc126887c8f2a",
       "version_major": 2,
       "version_minor": 0
      },
      "text/plain": [
       "HBox(children=(FloatProgress(value=1.0, bar_style='info', description='Validating', layout=Layout(flex='2'), m…"
      ]
     },
     "metadata": {},
     "output_type": "display_data"
    },
    {
     "data": {
      "application/vnd.jupyter.widget-view+json": {
       "model_id": "a3c5828ce86a47bab180eb7fe55a72c3",
       "version_major": 2,
       "version_minor": 0
      },
      "text/plain": [
       "HBox(children=(FloatProgress(value=1.0, bar_style='info', description='Validating', layout=Layout(flex='2'), m…"
      ]
     },
     "metadata": {},
     "output_type": "display_data"
    },
    {
     "data": {
      "application/vnd.jupyter.widget-view+json": {
       "model_id": "4bd44f0698964cf2adb4809232b297e8",
       "version_major": 2,
       "version_minor": 0
      },
      "text/plain": [
       "HBox(children=(FloatProgress(value=1.0, bar_style='info', description='Validating', layout=Layout(flex='2'), m…"
      ]
     },
     "metadata": {},
     "output_type": "display_data"
    },
    {
     "data": {
      "application/vnd.jupyter.widget-view+json": {
       "model_id": "c1f102ae3f4b4b13af4ff65fa9b6a31d",
       "version_major": 2,
       "version_minor": 0
      },
      "text/plain": [
       "HBox(children=(FloatProgress(value=1.0, bar_style='info', description='Validating', layout=Layout(flex='2'), m…"
      ]
     },
     "metadata": {},
     "output_type": "display_data"
    },
    {
     "data": {
      "application/vnd.jupyter.widget-view+json": {
       "model_id": "b9b38de28acd4910aa582722dca44e86",
       "version_major": 2,
       "version_minor": 0
      },
      "text/plain": [
       "HBox(children=(FloatProgress(value=1.0, bar_style='info', description='Validating', layout=Layout(flex='2'), m…"
      ]
     },
     "metadata": {},
     "output_type": "display_data"
    },
    {
     "data": {
      "application/vnd.jupyter.widget-view+json": {
       "model_id": "4eee4953a472406bb78ec9f257146fc4",
       "version_major": 2,
       "version_minor": 0
      },
      "text/plain": [
       "HBox(children=(FloatProgress(value=1.0, bar_style='info', description='Validating', layout=Layout(flex='2'), m…"
      ]
     },
     "metadata": {},
     "output_type": "display_data"
    },
    {
     "data": {
      "application/vnd.jupyter.widget-view+json": {
       "model_id": "d84d1e0d5c2946328e68175156a55491",
       "version_major": 2,
       "version_minor": 0
      },
      "text/plain": [
       "HBox(children=(FloatProgress(value=1.0, bar_style='info', description='Validating', layout=Layout(flex='2'), m…"
      ]
     },
     "metadata": {},
     "output_type": "display_data"
    },
    {
     "data": {
      "application/vnd.jupyter.widget-view+json": {
       "model_id": "54bda0d2afe04f6697a784d940072140",
       "version_major": 2,
       "version_minor": 0
      },
      "text/plain": [
       "HBox(children=(FloatProgress(value=1.0, bar_style='info', description='Validating', layout=Layout(flex='2'), m…"
      ]
     },
     "metadata": {},
     "output_type": "display_data"
    },
    {
     "data": {
      "application/vnd.jupyter.widget-view+json": {
       "model_id": "e077cafef2aa4c2bbf53df6689a82a7a",
       "version_major": 2,
       "version_minor": 0
      },
      "text/plain": [
       "HBox(children=(FloatProgress(value=1.0, bar_style='info', description='Validating', layout=Layout(flex='2'), m…"
      ]
     },
     "metadata": {},
     "output_type": "display_data"
    },
    {
     "data": {
      "application/vnd.jupyter.widget-view+json": {
       "model_id": "02921c2ec135437ebfa71bf935235fe7",
       "version_major": 2,
       "version_minor": 0
      },
      "text/plain": [
       "HBox(children=(FloatProgress(value=1.0, bar_style='info', description='Validating', layout=Layout(flex='2'), m…"
      ]
     },
     "metadata": {},
     "output_type": "display_data"
    },
    {
     "data": {
      "application/vnd.jupyter.widget-view+json": {
       "model_id": "b08bb293c2804a249a0b4fde5ab46217",
       "version_major": 2,
       "version_minor": 0
      },
      "text/plain": [
       "HBox(children=(FloatProgress(value=1.0, bar_style='info', description='Validating', layout=Layout(flex='2'), m…"
      ]
     },
     "metadata": {},
     "output_type": "display_data"
    },
    {
     "name": "stderr",
     "output_type": "stream",
     "text": [
      "GPU available: True, used: True\n",
      "No environment variable for node rank defined. Set as 0.\n",
      "CUDA_VISIBLE_DEVICES: [0]\n"
     ]
    },
    {
     "name": "stdout",
     "output_type": "stream",
     "text": [
      "\n",
      "run_name: ResNet-breadth-mid-chan-74-drop-0.02\n",
      "run 3 out of 8, 0.38 finished!\n",
      "Starting training for 22 epochs with early stopping...\n",
      "\n",
      "Files already downloaded and verified\n",
      "Files already downloaded and verified\n"
     ]
    },
    {
     "data": {
      "text/html": [
       "\n",
       "            Using <a href=\"https://wandb.com\" target=\"_blank\">Weights & Biases</a> in dryrun mode. Not logging results to the cloud.<br/>\n",
       "            Call wandb.login() to authenticate this machine.<br/>\n",
       "        "
      ],
      "text/plain": [
       "<IPython.core.display.HTML object>"
      ]
     },
     "metadata": {},
     "output_type": "display_data"
    },
    {
     "name": "stderr",
     "output_type": "stream",
     "text": [
      "wandb: Wandb version 0.9.1 is available!  To upgrade, please run:\n",
      "wandb:  $ pip install wandb --upgrade\n",
      "\n",
      "   | Name                  | Type        | Params\n",
      "--------------------------------------------------\n",
      "0  | FirstConv             | ConvBlock   | 480   \n",
      "1  | FirstConv.Conv2d      | Conv2d      | 448   \n",
      "2  | FirstConv.BatchNorm2d | BatchNorm2d | 32    \n",
      "3  | cv_bundle1            | Sequential  | 14 K  \n",
      "4  | cv_bundle1.0          | ResNetBlock | 4 K   \n",
      "5  | cv_bundle1.0.conv1    | Conv2d      | 2 K   \n",
      "6  | cv_bundle1.0.conv2    | Conv2d      | 2 K   \n",
      "7  | cv_bundle1.0.bn1      | BatchNorm2d | 32    \n",
      "8  | cv_bundle1.0.bn2      | BatchNorm2d | 32    \n",
      "9  | cv_bundle1.0.dropout1 | Dropout2d   | 0     \n",
      "10 | cv_bundle1.0.dropout2 | Dropout2d   | 0     \n",
      "11 | cv_bundle1.1          | ResNetBlock | 4 K   \n",
      "12 | cv_bundle1.1.conv1    | Conv2d      | 2 K   \n",
      "13 | cv_bundle1.1.conv2    | Conv2d      | 2 K   \n",
      "14 | cv_bundle1.1.bn1      | BatchNorm2d | 32    \n",
      "15 | cv_bundle1.1.bn2      | BatchNorm2d | 32    \n",
      "16 | cv_bundle1.1.dropout1 | Dropout2d   | 0     \n",
      "17 | cv_bundle1.1.dropout2 | Dropout2d   | 0     \n",
      "18 | cv_bundle1.2          | ResNetBlock | 4 K   \n",
      "19 | cv_bundle1.2.conv1    | Conv2d      | 2 K   \n",
      "20 | cv_bundle1.2.conv2    | Conv2d      | 2 K   \n",
      "21 | cv_bundle1.2.bn1      | BatchNorm2d | 32    \n",
      "22 | cv_bundle1.2.bn2      | BatchNorm2d | 32    \n",
      "23 | cv_bundle1.2.dropout1 | Dropout2d   | 0     \n",
      "24 | cv_bundle1.2.dropout2 | Dropout2d   | 0     \n",
      "25 | cv_bundle2            | Sequential  | 258 K \n",
      "26 | cv_bundle2.0          | ResNetBlock | 60 K  \n",
      "27 | cv_bundle2.0.conv1    | Conv2d      | 10 K  \n",
      "28 | cv_bundle2.0.conv2    | Conv2d      | 49 K  \n",
      "29 | cv_bundle2.0.bn1      | BatchNorm2d | 148   \n",
      "30 | cv_bundle2.0.bn2      | BatchNorm2d | 148   \n",
      "31 | cv_bundle2.0.dropout1 | Dropout2d   | 0     \n",
      "32 | cv_bundle2.0.dropout2 | Dropout2d   | 0     \n",
      "33 | cv_bundle2.1          | ResNetBlock | 99 K  \n",
      "34 | cv_bundle2.1.conv1    | Conv2d      | 49 K  \n",
      "35 | cv_bundle2.1.conv2    | Conv2d      | 49 K  \n",
      "36 | cv_bundle2.1.bn1      | BatchNorm2d | 148   \n",
      "37 | cv_bundle2.1.bn2      | BatchNorm2d | 148   \n",
      "38 | cv_bundle2.1.dropout1 | Dropout2d   | 0     \n",
      "39 | cv_bundle2.1.dropout2 | Dropout2d   | 0     \n",
      "40 | cv_bundle2.2          | ResNetBlock | 99 K  \n",
      "41 | cv_bundle2.2.conv1    | Conv2d      | 49 K  \n",
      "42 | cv_bundle2.2.conv2    | Conv2d      | 49 K  \n",
      "43 | cv_bundle2.2.bn1      | BatchNorm2d | 148   \n",
      "44 | cv_bundle2.2.bn2      | BatchNorm2d | 148   \n",
      "45 | cv_bundle2.2.dropout1 | Dropout2d   | 0     \n",
      "46 | cv_bundle2.2.dropout2 | Dropout2d   | 0     \n",
      "47 | cv_bundle3            | Sequential  | 228 K \n",
      "48 | cv_bundle3.0          | ResNetBlock | 79 K  \n",
      "49 | cv_bundle3.0.conv1    | Conv2d      | 42 K  \n",
      "50 | cv_bundle3.0.conv2    | Conv2d      | 36 K  \n",
      "51 | cv_bundle3.0.bn1      | BatchNorm2d | 128   \n",
      "52 | cv_bundle3.0.bn2      | BatchNorm2d | 128   \n",
      "53 | cv_bundle3.0.dropout1 | Dropout2d   | 0     \n",
      "54 | cv_bundle3.0.dropout2 | Dropout2d   | 0     \n",
      "55 | cv_bundle3.1          | ResNetBlock | 74 K  \n",
      "56 | cv_bundle3.1.conv1    | Conv2d      | 36 K  \n",
      "57 | cv_bundle3.1.conv2    | Conv2d      | 36 K  \n",
      "58 | cv_bundle3.1.bn1      | BatchNorm2d | 128   \n",
      "59 | cv_bundle3.1.bn2      | BatchNorm2d | 128   \n",
      "60 | cv_bundle3.1.dropout1 | Dropout2d   | 0     \n",
      "61 | cv_bundle3.1.dropout2 | Dropout2d   | 0     \n",
      "62 | cv_bundle3.2          | ResNetBlock | 74 K  \n",
      "63 | cv_bundle3.2.conv1    | Conv2d      | 36 K  \n",
      "64 | cv_bundle3.2.conv2    | Conv2d      | 36 K  \n",
      "65 | cv_bundle3.2.bn1      | BatchNorm2d | 128   \n",
      "66 | cv_bundle3.2.bn2      | BatchNorm2d | 128   \n",
      "67 | cv_bundle3.2.dropout1 | Dropout2d   | 0     \n",
      "68 | cv_bundle3.2.dropout2 | Dropout2d   | 0     \n",
      "69 | FcBlock               | Linear      | 650   \n",
      "70 | AvgPool2d             | AvgPool2d   | 0     \n"
     ]
    },
    {
     "data": {
      "application/vnd.jupyter.widget-view+json": {
       "model_id": "ac85ae3a93df4de5aaf8520a89c7d677",
       "version_major": 2,
       "version_minor": 0
      },
      "text/plain": [
       "HBox(children=(FloatProgress(value=1.0, bar_style='info', description='Validation sanity check', layout=Layout…"
      ]
     },
     "metadata": {},
     "output_type": "display_data"
    },
    {
     "data": {
      "application/vnd.jupyter.widget-view+json": {
       "model_id": "b4a1910dc7324063a077d6faa5e7d049",
       "version_major": 2,
       "version_minor": 0
      },
      "text/plain": [
       "HBox(children=(FloatProgress(value=1.0, bar_style='info', description='Training', layout=Layout(flex='2'), max…"
      ]
     },
     "metadata": {},
     "output_type": "display_data"
    },
    {
     "name": "stderr",
     "output_type": "stream",
     "text": [
      "wandb: WARNING Adding to old History rows isn't currently supported.  Step 0 < 1; dropping {'train_loss': 2.9471771717071533, 'train_acc': 0.09, 'epoch': 0}.\n"
     ]
    },
    {
     "data": {
      "application/vnd.jupyter.widget-view+json": {
       "model_id": "a5be206409784956b46f401c9a376a8b",
       "version_major": 2,
       "version_minor": 0
      },
      "text/plain": [
       "HBox(children=(FloatProgress(value=1.0, bar_style='info', description='Validating', layout=Layout(flex='2'), m…"
      ]
     },
     "metadata": {},
     "output_type": "display_data"
    },
    {
     "data": {
      "application/vnd.jupyter.widget-view+json": {
       "model_id": "3eb2c12b261848a187c78598f72b213a",
       "version_major": 2,
       "version_minor": 0
      },
      "text/plain": [
       "HBox(children=(FloatProgress(value=1.0, bar_style='info', description='Validating', layout=Layout(flex='2'), m…"
      ]
     },
     "metadata": {},
     "output_type": "display_data"
    },
    {
     "data": {
      "application/vnd.jupyter.widget-view+json": {
       "model_id": "03ccc310e4634eee8a276f2e70a733a7",
       "version_major": 2,
       "version_minor": 0
      },
      "text/plain": [
       "HBox(children=(FloatProgress(value=1.0, bar_style='info', description='Validating', layout=Layout(flex='2'), m…"
      ]
     },
     "metadata": {},
     "output_type": "display_data"
    },
    {
     "data": {
      "application/vnd.jupyter.widget-view+json": {
       "model_id": "36e8ec31887c472099f530a7b8ecd0d9",
       "version_major": 2,
       "version_minor": 0
      },
      "text/plain": [
       "HBox(children=(FloatProgress(value=1.0, bar_style='info', description='Validating', layout=Layout(flex='2'), m…"
      ]
     },
     "metadata": {},
     "output_type": "display_data"
    },
    {
     "data": {
      "application/vnd.jupyter.widget-view+json": {
       "model_id": "98cb2e0502124224ad49bf865abee76f",
       "version_major": 2,
       "version_minor": 0
      },
      "text/plain": [
       "HBox(children=(FloatProgress(value=1.0, bar_style='info', description='Validating', layout=Layout(flex='2'), m…"
      ]
     },
     "metadata": {},
     "output_type": "display_data"
    },
    {
     "data": {
      "application/vnd.jupyter.widget-view+json": {
       "model_id": "d8780244ca2e49199945cf1f15dfce54",
       "version_major": 2,
       "version_minor": 0
      },
      "text/plain": [
       "HBox(children=(FloatProgress(value=1.0, bar_style='info', description='Validating', layout=Layout(flex='2'), m…"
      ]
     },
     "metadata": {},
     "output_type": "display_data"
    },
    {
     "data": {
      "application/vnd.jupyter.widget-view+json": {
       "model_id": "53d0ff0b6d47493486772373d95b8893",
       "version_major": 2,
       "version_minor": 0
      },
      "text/plain": [
       "HBox(children=(FloatProgress(value=1.0, bar_style='info', description='Validating', layout=Layout(flex='2'), m…"
      ]
     },
     "metadata": {},
     "output_type": "display_data"
    },
    {
     "data": {
      "application/vnd.jupyter.widget-view+json": {
       "model_id": "632e9954d0aa413fae34c6d62afe8c59",
       "version_major": 2,
       "version_minor": 0
      },
      "text/plain": [
       "HBox(children=(FloatProgress(value=1.0, bar_style='info', description='Validating', layout=Layout(flex='2'), m…"
      ]
     },
     "metadata": {},
     "output_type": "display_data"
    },
    {
     "data": {
      "application/vnd.jupyter.widget-view+json": {
       "model_id": "7c16ada499db4d418283445bb70cf896",
       "version_major": 2,
       "version_minor": 0
      },
      "text/plain": [
       "HBox(children=(FloatProgress(value=1.0, bar_style='info', description='Validating', layout=Layout(flex='2'), m…"
      ]
     },
     "metadata": {},
     "output_type": "display_data"
    },
    {
     "data": {
      "application/vnd.jupyter.widget-view+json": {
       "model_id": "12b5bb2560dd4db2ba392b6f31287348",
       "version_major": 2,
       "version_minor": 0
      },
      "text/plain": [
       "HBox(children=(FloatProgress(value=1.0, bar_style='info', description='Validating', layout=Layout(flex='2'), m…"
      ]
     },
     "metadata": {},
     "output_type": "display_data"
    },
    {
     "data": {
      "application/vnd.jupyter.widget-view+json": {
       "model_id": "b80f0fcf8c0247dfba9d8c097480eac7",
       "version_major": 2,
       "version_minor": 0
      },
      "text/plain": [
       "HBox(children=(FloatProgress(value=1.0, bar_style='info', description='Validating', layout=Layout(flex='2'), m…"
      ]
     },
     "metadata": {},
     "output_type": "display_data"
    },
    {
     "data": {
      "application/vnd.jupyter.widget-view+json": {
       "model_id": "97c13c1ec2334ae6a8704ceabb2ec049",
       "version_major": 2,
       "version_minor": 0
      },
      "text/plain": [
       "HBox(children=(FloatProgress(value=1.0, bar_style='info', description='Validating', layout=Layout(flex='2'), m…"
      ]
     },
     "metadata": {},
     "output_type": "display_data"
    },
    {
     "data": {
      "application/vnd.jupyter.widget-view+json": {
       "model_id": "87dc0e259ae5485ea686dcc0cf0d27fc",
       "version_major": 2,
       "version_minor": 0
      },
      "text/plain": [
       "HBox(children=(FloatProgress(value=1.0, bar_style='info', description='Validating', layout=Layout(flex='2'), m…"
      ]
     },
     "metadata": {},
     "output_type": "display_data"
    },
    {
     "data": {
      "application/vnd.jupyter.widget-view+json": {
       "model_id": "38c1ad9caf9448638735ad675f16e748",
       "version_major": 2,
       "version_minor": 0
      },
      "text/plain": [
       "HBox(children=(FloatProgress(value=1.0, bar_style='info', description='Validating', layout=Layout(flex='2'), m…"
      ]
     },
     "metadata": {},
     "output_type": "display_data"
    },
    {
     "data": {
      "application/vnd.jupyter.widget-view+json": {
       "model_id": "0fb960ff822347ff806b0feaff7c2626",
       "version_major": 2,
       "version_minor": 0
      },
      "text/plain": [
       "HBox(children=(FloatProgress(value=1.0, bar_style='info', description='Validating', layout=Layout(flex='2'), m…"
      ]
     },
     "metadata": {},
     "output_type": "display_data"
    },
    {
     "data": {
      "application/vnd.jupyter.widget-view+json": {
       "model_id": "b7d528ed7fa64b728f89fb2776cbeae3",
       "version_major": 2,
       "version_minor": 0
      },
      "text/plain": [
       "HBox(children=(FloatProgress(value=1.0, bar_style='info', description='Validating', layout=Layout(flex='2'), m…"
      ]
     },
     "metadata": {},
     "output_type": "display_data"
    },
    {
     "data": {
      "application/vnd.jupyter.widget-view+json": {
       "model_id": "8ff0f45e479548f2a822793d898e7eca",
       "version_major": 2,
       "version_minor": 0
      },
      "text/plain": [
       "HBox(children=(FloatProgress(value=1.0, bar_style='info', description='Validating', layout=Layout(flex='2'), m…"
      ]
     },
     "metadata": {},
     "output_type": "display_data"
    },
    {
     "data": {
      "application/vnd.jupyter.widget-view+json": {
       "model_id": "721c172fc8a94a6998c94bafa95a64d8",
       "version_major": 2,
       "version_minor": 0
      },
      "text/plain": [
       "HBox(children=(FloatProgress(value=1.0, bar_style='info', description='Validating', layout=Layout(flex='2'), m…"
      ]
     },
     "metadata": {},
     "output_type": "display_data"
    },
    {
     "data": {
      "application/vnd.jupyter.widget-view+json": {
       "model_id": "bcda9106da2340029ea5a40e332d677c",
       "version_major": 2,
       "version_minor": 0
      },
      "text/plain": [
       "HBox(children=(FloatProgress(value=1.0, bar_style='info', description='Validating', layout=Layout(flex='2'), m…"
      ]
     },
     "metadata": {},
     "output_type": "display_data"
    },
    {
     "data": {
      "application/vnd.jupyter.widget-view+json": {
       "model_id": "fd9dee5567ee4d6d9f6e895dc27a2074",
       "version_major": 2,
       "version_minor": 0
      },
      "text/plain": [
       "HBox(children=(FloatProgress(value=1.0, bar_style='info', description='Validating', layout=Layout(flex='2'), m…"
      ]
     },
     "metadata": {},
     "output_type": "display_data"
    },
    {
     "data": {
      "application/vnd.jupyter.widget-view+json": {
       "model_id": "bff1189abf9c4f08803e66a32686fa0c",
       "version_major": 2,
       "version_minor": 0
      },
      "text/plain": [
       "HBox(children=(FloatProgress(value=1.0, bar_style='info', description='Validating', layout=Layout(flex='2'), m…"
      ]
     },
     "metadata": {},
     "output_type": "display_data"
    },
    {
     "data": {
      "application/vnd.jupyter.widget-view+json": {
       "model_id": "a1598386658f49e798323570ed0b6de6",
       "version_major": 2,
       "version_minor": 0
      },
      "text/plain": [
       "HBox(children=(FloatProgress(value=1.0, bar_style='info', description='Validating', layout=Layout(flex='2'), m…"
      ]
     },
     "metadata": {},
     "output_type": "display_data"
    },
    {
     "name": "stderr",
     "output_type": "stream",
     "text": [
      "GPU available: True, used: True\n",
      "No environment variable for node rank defined. Set as 0.\n",
      "CUDA_VISIBLE_DEVICES: [0]\n"
     ]
    },
    {
     "name": "stdout",
     "output_type": "stream",
     "text": [
      "\n",
      "run_name: ResNet-breadth-mid-chan-88-drop-0\n",
      "run 4 out of 8, 0.50 finished!\n",
      "Starting training for 22 epochs with early stopping...\n",
      "\n",
      "Files already downloaded and verified\n",
      "Files already downloaded and verified\n"
     ]
    },
    {
     "data": {
      "text/html": [
       "\n",
       "            Using <a href=\"https://wandb.com\" target=\"_blank\">Weights & Biases</a> in dryrun mode. Not logging results to the cloud.<br/>\n",
       "            Call wandb.login() to authenticate this machine.<br/>\n",
       "        "
      ],
      "text/plain": [
       "<IPython.core.display.HTML object>"
      ]
     },
     "metadata": {},
     "output_type": "display_data"
    },
    {
     "name": "stderr",
     "output_type": "stream",
     "text": [
      "wandb: Wandb version 0.9.1 is available!  To upgrade, please run:\n",
      "wandb:  $ pip install wandb --upgrade\n",
      "\n",
      "   | Name                  | Type        | Params\n",
      "--------------------------------------------------\n",
      "0  | FirstConv             | ConvBlock   | 480   \n",
      "1  | FirstConv.Conv2d      | Conv2d      | 448   \n",
      "2  | FirstConv.BatchNorm2d | BatchNorm2d | 32    \n",
      "3  | cv_bundle1            | Sequential  | 14 K  \n",
      "4  | cv_bundle1.0          | ResNetBlock | 4 K   \n",
      "5  | cv_bundle1.0.conv1    | Conv2d      | 2 K   \n",
      "6  | cv_bundle1.0.conv2    | Conv2d      | 2 K   \n",
      "7  | cv_bundle1.0.bn1      | BatchNorm2d | 32    \n",
      "8  | cv_bundle1.0.bn2      | BatchNorm2d | 32    \n",
      "9  | cv_bundle1.1          | ResNetBlock | 4 K   \n",
      "10 | cv_bundle1.1.conv1    | Conv2d      | 2 K   \n",
      "11 | cv_bundle1.1.conv2    | Conv2d      | 2 K   \n",
      "12 | cv_bundle1.1.bn1      | BatchNorm2d | 32    \n",
      "13 | cv_bundle1.1.bn2      | BatchNorm2d | 32    \n",
      "14 | cv_bundle1.2          | ResNetBlock | 4 K   \n",
      "15 | cv_bundle1.2.conv1    | Conv2d      | 2 K   \n",
      "16 | cv_bundle1.2.conv2    | Conv2d      | 2 K   \n",
      "17 | cv_bundle1.2.bn1      | BatchNorm2d | 32    \n",
      "18 | cv_bundle1.2.bn2      | BatchNorm2d | 32    \n",
      "19 | cv_bundle2            | Sequential  | 362 K \n",
      "20 | cv_bundle2.0          | ResNetBlock | 82 K  \n",
      "21 | cv_bundle2.0.conv1    | Conv2d      | 12 K  \n",
      "22 | cv_bundle2.0.conv2    | Conv2d      | 69 K  \n",
      "23 | cv_bundle2.0.bn1      | BatchNorm2d | 176   \n",
      "24 | cv_bundle2.0.bn2      | BatchNorm2d | 176   \n",
      "25 | cv_bundle2.1          | ResNetBlock | 139 K \n",
      "26 | cv_bundle2.1.conv1    | Conv2d      | 69 K  \n",
      "27 | cv_bundle2.1.conv2    | Conv2d      | 69 K  \n",
      "28 | cv_bundle2.1.bn1      | BatchNorm2d | 176   \n",
      "29 | cv_bundle2.1.bn2      | BatchNorm2d | 176   \n",
      "30 | cv_bundle2.2          | ResNetBlock | 139 K \n",
      "31 | cv_bundle2.2.conv1    | Conv2d      | 69 K  \n",
      "32 | cv_bundle2.2.conv2    | Conv2d      | 69 K  \n",
      "33 | cv_bundle2.2.bn1      | BatchNorm2d | 176   \n",
      "34 | cv_bundle2.2.bn2      | BatchNorm2d | 176   \n",
      "35 | cv_bundle3            | Sequential  | 236 K \n",
      "36 | cv_bundle3.0          | ResNetBlock | 87 K  \n",
      "37 | cv_bundle3.0.conv1    | Conv2d      | 50 K  \n",
      "38 | cv_bundle3.0.conv2    | Conv2d      | 36 K  \n",
      "39 | cv_bundle3.0.bn1      | BatchNorm2d | 128   \n",
      "40 | cv_bundle3.0.bn2      | BatchNorm2d | 128   \n",
      "41 | cv_bundle3.1          | ResNetBlock | 74 K  \n",
      "42 | cv_bundle3.1.conv1    | Conv2d      | 36 K  \n",
      "43 | cv_bundle3.1.conv2    | Conv2d      | 36 K  \n",
      "44 | cv_bundle3.1.bn1      | BatchNorm2d | 128   \n",
      "45 | cv_bundle3.1.bn2      | BatchNorm2d | 128   \n",
      "46 | cv_bundle3.2          | ResNetBlock | 74 K  \n",
      "47 | cv_bundle3.2.conv1    | Conv2d      | 36 K  \n",
      "48 | cv_bundle3.2.conv2    | Conv2d      | 36 K  \n",
      "49 | cv_bundle3.2.bn1      | BatchNorm2d | 128   \n",
      "50 | cv_bundle3.2.bn2      | BatchNorm2d | 128   \n",
      "51 | FcBlock               | Linear      | 650   \n",
      "52 | AvgPool2d             | AvgPool2d   | 0     \n"
     ]
    },
    {
     "data": {
      "application/vnd.jupyter.widget-view+json": {
       "model_id": "661b86989ce042bcaba7cebbf07fbde9",
       "version_major": 2,
       "version_minor": 0
      },
      "text/plain": [
       "HBox(children=(FloatProgress(value=1.0, bar_style='info', description='Validation sanity check', layout=Layout…"
      ]
     },
     "metadata": {},
     "output_type": "display_data"
    },
    {
     "data": {
      "application/vnd.jupyter.widget-view+json": {
       "model_id": "c38ffbb16bd44068a0561032799da3c1",
       "version_major": 2,
       "version_minor": 0
      },
      "text/plain": [
       "HBox(children=(FloatProgress(value=1.0, bar_style='info', description='Training', layout=Layout(flex='2'), max…"
      ]
     },
     "metadata": {},
     "output_type": "display_data"
    },
    {
     "name": "stderr",
     "output_type": "stream",
     "text": [
      "wandb: WARNING Adding to old History rows isn't currently supported.  Step 0 < 1; dropping {'train_loss': 3.3279244899749756, 'train_acc': 0.05, 'epoch': 0}.\n"
     ]
    },
    {
     "data": {
      "application/vnd.jupyter.widget-view+json": {
       "model_id": "24ac1a60f96244acbf1a59bb23b1163b",
       "version_major": 2,
       "version_minor": 0
      },
      "text/plain": [
       "HBox(children=(FloatProgress(value=1.0, bar_style='info', description='Validating', layout=Layout(flex='2'), m…"
      ]
     },
     "metadata": {},
     "output_type": "display_data"
    },
    {
     "data": {
      "application/vnd.jupyter.widget-view+json": {
       "model_id": "8d61972fae5f4c6ba1533294b4e9447f",
       "version_major": 2,
       "version_minor": 0
      },
      "text/plain": [
       "HBox(children=(FloatProgress(value=1.0, bar_style='info', description='Validating', layout=Layout(flex='2'), m…"
      ]
     },
     "metadata": {},
     "output_type": "display_data"
    },
    {
     "data": {
      "application/vnd.jupyter.widget-view+json": {
       "model_id": "498bba80d3f74f849bd2755cf1f63006",
       "version_major": 2,
       "version_minor": 0
      },
      "text/plain": [
       "HBox(children=(FloatProgress(value=1.0, bar_style='info', description='Validating', layout=Layout(flex='2'), m…"
      ]
     },
     "metadata": {},
     "output_type": "display_data"
    },
    {
     "data": {
      "application/vnd.jupyter.widget-view+json": {
       "model_id": "bb57d3dddc4747729e3b19298a3a686c",
       "version_major": 2,
       "version_minor": 0
      },
      "text/plain": [
       "HBox(children=(FloatProgress(value=1.0, bar_style='info', description='Validating', layout=Layout(flex='2'), m…"
      ]
     },
     "metadata": {},
     "output_type": "display_data"
    },
    {
     "data": {
      "application/vnd.jupyter.widget-view+json": {
       "model_id": "163f8032744340bcb74a48526389ba5a",
       "version_major": 2,
       "version_minor": 0
      },
      "text/plain": [
       "HBox(children=(FloatProgress(value=1.0, bar_style='info', description='Validating', layout=Layout(flex='2'), m…"
      ]
     },
     "metadata": {},
     "output_type": "display_data"
    },
    {
     "data": {
      "application/vnd.jupyter.widget-view+json": {
       "model_id": "370e7321d3154415b5cf504f4d6dcae3",
       "version_major": 2,
       "version_minor": 0
      },
      "text/plain": [
       "HBox(children=(FloatProgress(value=1.0, bar_style='info', description='Validating', layout=Layout(flex='2'), m…"
      ]
     },
     "metadata": {},
     "output_type": "display_data"
    },
    {
     "data": {
      "application/vnd.jupyter.widget-view+json": {
       "model_id": "e6ff6996a16f4515913ab5efabf01e2a",
       "version_major": 2,
       "version_minor": 0
      },
      "text/plain": [
       "HBox(children=(FloatProgress(value=1.0, bar_style='info', description='Validating', layout=Layout(flex='2'), m…"
      ]
     },
     "metadata": {},
     "output_type": "display_data"
    },
    {
     "data": {
      "application/vnd.jupyter.widget-view+json": {
       "model_id": "26263decda1f42c2a869445a1ede2ba7",
       "version_major": 2,
       "version_minor": 0
      },
      "text/plain": [
       "HBox(children=(FloatProgress(value=1.0, bar_style='info', description='Validating', layout=Layout(flex='2'), m…"
      ]
     },
     "metadata": {},
     "output_type": "display_data"
    },
    {
     "data": {
      "application/vnd.jupyter.widget-view+json": {
       "model_id": "bcd00bdc6269480194f6f646a40c5c0c",
       "version_major": 2,
       "version_minor": 0
      },
      "text/plain": [
       "HBox(children=(FloatProgress(value=1.0, bar_style='info', description='Validating', layout=Layout(flex='2'), m…"
      ]
     },
     "metadata": {},
     "output_type": "display_data"
    },
    {
     "data": {
      "application/vnd.jupyter.widget-view+json": {
       "model_id": "622317ce21ec4d9093487a9d30ef951a",
       "version_major": 2,
       "version_minor": 0
      },
      "text/plain": [
       "HBox(children=(FloatProgress(value=1.0, bar_style='info', description='Validating', layout=Layout(flex='2'), m…"
      ]
     },
     "metadata": {},
     "output_type": "display_data"
    },
    {
     "data": {
      "application/vnd.jupyter.widget-view+json": {
       "model_id": "82b481864f604fc5ae4444e8ed205723",
       "version_major": 2,
       "version_minor": 0
      },
      "text/plain": [
       "HBox(children=(FloatProgress(value=1.0, bar_style='info', description='Validating', layout=Layout(flex='2'), m…"
      ]
     },
     "metadata": {},
     "output_type": "display_data"
    },
    {
     "data": {
      "application/vnd.jupyter.widget-view+json": {
       "model_id": "743853e7949741d285640564098e6b5b",
       "version_major": 2,
       "version_minor": 0
      },
      "text/plain": [
       "HBox(children=(FloatProgress(value=1.0, bar_style='info', description='Validating', layout=Layout(flex='2'), m…"
      ]
     },
     "metadata": {},
     "output_type": "display_data"
    },
    {
     "data": {
      "application/vnd.jupyter.widget-view+json": {
       "model_id": "8e4bcbcf27cf45418c9d2982610603c4",
       "version_major": 2,
       "version_minor": 0
      },
      "text/plain": [
       "HBox(children=(FloatProgress(value=1.0, bar_style='info', description='Validating', layout=Layout(flex='2'), m…"
      ]
     },
     "metadata": {},
     "output_type": "display_data"
    },
    {
     "data": {
      "application/vnd.jupyter.widget-view+json": {
       "model_id": "ce72cf939d2e4c1eb45bce60c50815e2",
       "version_major": 2,
       "version_minor": 0
      },
      "text/plain": [
       "HBox(children=(FloatProgress(value=1.0, bar_style='info', description='Validating', layout=Layout(flex='2'), m…"
      ]
     },
     "metadata": {},
     "output_type": "display_data"
    },
    {
     "data": {
      "application/vnd.jupyter.widget-view+json": {
       "model_id": "dd6eda7a69314acdb18e7d713d2170e8",
       "version_major": 2,
       "version_minor": 0
      },
      "text/plain": [
       "HBox(children=(FloatProgress(value=1.0, bar_style='info', description='Validating', layout=Layout(flex='2'), m…"
      ]
     },
     "metadata": {},
     "output_type": "display_data"
    },
    {
     "data": {
      "application/vnd.jupyter.widget-view+json": {
       "model_id": "6ce056be6ebd457a83d085b233a1aa3f",
       "version_major": 2,
       "version_minor": 0
      },
      "text/plain": [
       "HBox(children=(FloatProgress(value=1.0, bar_style='info', description='Validating', layout=Layout(flex='2'), m…"
      ]
     },
     "metadata": {},
     "output_type": "display_data"
    },
    {
     "data": {
      "application/vnd.jupyter.widget-view+json": {
       "model_id": "1b992812d19244df8ef08aed9359310b",
       "version_major": 2,
       "version_minor": 0
      },
      "text/plain": [
       "HBox(children=(FloatProgress(value=1.0, bar_style='info', description='Validating', layout=Layout(flex='2'), m…"
      ]
     },
     "metadata": {},
     "output_type": "display_data"
    },
    {
     "data": {
      "application/vnd.jupyter.widget-view+json": {
       "model_id": "58d3189aa7de4f118f77da33a74d8eef",
       "version_major": 2,
       "version_minor": 0
      },
      "text/plain": [
       "HBox(children=(FloatProgress(value=1.0, bar_style='info', description='Validating', layout=Layout(flex='2'), m…"
      ]
     },
     "metadata": {},
     "output_type": "display_data"
    },
    {
     "data": {
      "application/vnd.jupyter.widget-view+json": {
       "model_id": "f29c00f11cc54ca09684a6d254aa476a",
       "version_major": 2,
       "version_minor": 0
      },
      "text/plain": [
       "HBox(children=(FloatProgress(value=1.0, bar_style='info', description='Validating', layout=Layout(flex='2'), m…"
      ]
     },
     "metadata": {},
     "output_type": "display_data"
    },
    {
     "data": {
      "application/vnd.jupyter.widget-view+json": {
       "model_id": "f521d729c35c45a4ace24d680d293b75",
       "version_major": 2,
       "version_minor": 0
      },
      "text/plain": [
       "HBox(children=(FloatProgress(value=1.0, bar_style='info', description='Validating', layout=Layout(flex='2'), m…"
      ]
     },
     "metadata": {},
     "output_type": "display_data"
    },
    {
     "data": {
      "application/vnd.jupyter.widget-view+json": {
       "model_id": "d4702ec7ee364b96b3c42e336b26a919",
       "version_major": 2,
       "version_minor": 0
      },
      "text/plain": [
       "HBox(children=(FloatProgress(value=1.0, bar_style='info', description='Validating', layout=Layout(flex='2'), m…"
      ]
     },
     "metadata": {},
     "output_type": "display_data"
    },
    {
     "data": {
      "application/vnd.jupyter.widget-view+json": {
       "model_id": "55a32868127b4ad7abebe302e1ed4dd4",
       "version_major": 2,
       "version_minor": 0
      },
      "text/plain": [
       "HBox(children=(FloatProgress(value=1.0, bar_style='info', description='Validating', layout=Layout(flex='2'), m…"
      ]
     },
     "metadata": {},
     "output_type": "display_data"
    },
    {
     "name": "stderr",
     "output_type": "stream",
     "text": [
      "GPU available: True, used: True\n",
      "No environment variable for node rank defined. Set as 0.\n",
      "CUDA_VISIBLE_DEVICES: [0]\n"
     ]
    },
    {
     "name": "stdout",
     "output_type": "stream",
     "text": [
      "\n",
      "run_name: ResNet-breadth-mid-chan-88-drop-0.02\n",
      "run 5 out of 8, 0.62 finished!\n",
      "Starting training for 22 epochs with early stopping...\n",
      "\n",
      "Files already downloaded and verified\n",
      "Files already downloaded and verified\n"
     ]
    },
    {
     "data": {
      "text/html": [
       "\n",
       "            Using <a href=\"https://wandb.com\" target=\"_blank\">Weights & Biases</a> in dryrun mode. Not logging results to the cloud.<br/>\n",
       "            Call wandb.login() to authenticate this machine.<br/>\n",
       "        "
      ],
      "text/plain": [
       "<IPython.core.display.HTML object>"
      ]
     },
     "metadata": {},
     "output_type": "display_data"
    },
    {
     "name": "stderr",
     "output_type": "stream",
     "text": [
      "wandb: Wandb version 0.9.1 is available!  To upgrade, please run:\n",
      "wandb:  $ pip install wandb --upgrade\n",
      "\n",
      "   | Name                  | Type        | Params\n",
      "--------------------------------------------------\n",
      "0  | FirstConv             | ConvBlock   | 480   \n",
      "1  | FirstConv.Conv2d      | Conv2d      | 448   \n",
      "2  | FirstConv.BatchNorm2d | BatchNorm2d | 32    \n",
      "3  | cv_bundle1            | Sequential  | 14 K  \n",
      "4  | cv_bundle1.0          | ResNetBlock | 4 K   \n",
      "5  | cv_bundle1.0.conv1    | Conv2d      | 2 K   \n",
      "6  | cv_bundle1.0.conv2    | Conv2d      | 2 K   \n",
      "7  | cv_bundle1.0.bn1      | BatchNorm2d | 32    \n",
      "8  | cv_bundle1.0.bn2      | BatchNorm2d | 32    \n",
      "9  | cv_bundle1.0.dropout1 | Dropout2d   | 0     \n",
      "10 | cv_bundle1.0.dropout2 | Dropout2d   | 0     \n",
      "11 | cv_bundle1.1          | ResNetBlock | 4 K   \n",
      "12 | cv_bundle1.1.conv1    | Conv2d      | 2 K   \n",
      "13 | cv_bundle1.1.conv2    | Conv2d      | 2 K   \n",
      "14 | cv_bundle1.1.bn1      | BatchNorm2d | 32    \n",
      "15 | cv_bundle1.1.bn2      | BatchNorm2d | 32    \n",
      "16 | cv_bundle1.1.dropout1 | Dropout2d   | 0     \n",
      "17 | cv_bundle1.1.dropout2 | Dropout2d   | 0     \n",
      "18 | cv_bundle1.2          | ResNetBlock | 4 K   \n",
      "19 | cv_bundle1.2.conv1    | Conv2d      | 2 K   \n",
      "20 | cv_bundle1.2.conv2    | Conv2d      | 2 K   \n",
      "21 | cv_bundle1.2.bn1      | BatchNorm2d | 32    \n",
      "22 | cv_bundle1.2.bn2      | BatchNorm2d | 32    \n",
      "23 | cv_bundle1.2.dropout1 | Dropout2d   | 0     \n",
      "24 | cv_bundle1.2.dropout2 | Dropout2d   | 0     \n",
      "25 | cv_bundle2            | Sequential  | 362 K \n",
      "26 | cv_bundle2.0          | ResNetBlock | 82 K  \n",
      "27 | cv_bundle2.0.conv1    | Conv2d      | 12 K  \n",
      "28 | cv_bundle2.0.conv2    | Conv2d      | 69 K  \n",
      "29 | cv_bundle2.0.bn1      | BatchNorm2d | 176   \n",
      "30 | cv_bundle2.0.bn2      | BatchNorm2d | 176   \n",
      "31 | cv_bundle2.0.dropout1 | Dropout2d   | 0     \n",
      "32 | cv_bundle2.0.dropout2 | Dropout2d   | 0     \n",
      "33 | cv_bundle2.1          | ResNetBlock | 139 K \n",
      "34 | cv_bundle2.1.conv1    | Conv2d      | 69 K  \n",
      "35 | cv_bundle2.1.conv2    | Conv2d      | 69 K  \n",
      "36 | cv_bundle2.1.bn1      | BatchNorm2d | 176   \n",
      "37 | cv_bundle2.1.bn2      | BatchNorm2d | 176   \n",
      "38 | cv_bundle2.1.dropout1 | Dropout2d   | 0     \n",
      "39 | cv_bundle2.1.dropout2 | Dropout2d   | 0     \n",
      "40 | cv_bundle2.2          | ResNetBlock | 139 K \n",
      "41 | cv_bundle2.2.conv1    | Conv2d      | 69 K  \n",
      "42 | cv_bundle2.2.conv2    | Conv2d      | 69 K  \n",
      "43 | cv_bundle2.2.bn1      | BatchNorm2d | 176   \n",
      "44 | cv_bundle2.2.bn2      | BatchNorm2d | 176   \n",
      "45 | cv_bundle2.2.dropout1 | Dropout2d   | 0     \n",
      "46 | cv_bundle2.2.dropout2 | Dropout2d   | 0     \n",
      "47 | cv_bundle3            | Sequential  | 236 K \n",
      "48 | cv_bundle3.0          | ResNetBlock | 87 K  \n",
      "49 | cv_bundle3.0.conv1    | Conv2d      | 50 K  \n",
      "50 | cv_bundle3.0.conv2    | Conv2d      | 36 K  \n",
      "51 | cv_bundle3.0.bn1      | BatchNorm2d | 128   \n",
      "52 | cv_bundle3.0.bn2      | BatchNorm2d | 128   \n",
      "53 | cv_bundle3.0.dropout1 | Dropout2d   | 0     \n",
      "54 | cv_bundle3.0.dropout2 | Dropout2d   | 0     \n",
      "55 | cv_bundle3.1          | ResNetBlock | 74 K  \n",
      "56 | cv_bundle3.1.conv1    | Conv2d      | 36 K  \n",
      "57 | cv_bundle3.1.conv2    | Conv2d      | 36 K  \n",
      "58 | cv_bundle3.1.bn1      | BatchNorm2d | 128   \n",
      "59 | cv_bundle3.1.bn2      | BatchNorm2d | 128   \n",
      "60 | cv_bundle3.1.dropout1 | Dropout2d   | 0     \n",
      "61 | cv_bundle3.1.dropout2 | Dropout2d   | 0     \n",
      "62 | cv_bundle3.2          | ResNetBlock | 74 K  \n",
      "63 | cv_bundle3.2.conv1    | Conv2d      | 36 K  \n",
      "64 | cv_bundle3.2.conv2    | Conv2d      | 36 K  \n",
      "65 | cv_bundle3.2.bn1      | BatchNorm2d | 128   \n",
      "66 | cv_bundle3.2.bn2      | BatchNorm2d | 128   \n",
      "67 | cv_bundle3.2.dropout1 | Dropout2d   | 0     \n",
      "68 | cv_bundle3.2.dropout2 | Dropout2d   | 0     \n",
      "69 | FcBlock               | Linear      | 650   \n",
      "70 | AvgPool2d             | AvgPool2d   | 0     \n"
     ]
    },
    {
     "data": {
      "application/vnd.jupyter.widget-view+json": {
       "model_id": "f37af3f4eb364f7bb87cf6a494d96d96",
       "version_major": 2,
       "version_minor": 0
      },
      "text/plain": [
       "HBox(children=(FloatProgress(value=1.0, bar_style='info', description='Validation sanity check', layout=Layout…"
      ]
     },
     "metadata": {},
     "output_type": "display_data"
    },
    {
     "data": {
      "application/vnd.jupyter.widget-view+json": {
       "model_id": "6e6635a411df4b06b870642639ad74a3",
       "version_major": 2,
       "version_minor": 0
      },
      "text/plain": [
       "HBox(children=(FloatProgress(value=1.0, bar_style='info', description='Training', layout=Layout(flex='2'), max…"
      ]
     },
     "metadata": {},
     "output_type": "display_data"
    },
    {
     "name": "stderr",
     "output_type": "stream",
     "text": [
      "wandb: WARNING Adding to old History rows isn't currently supported.  Step 0 < 1; dropping {'train_loss': 4.088986396789551, 'train_acc': 0.12, 'epoch': 0}.\n"
     ]
    },
    {
     "data": {
      "application/vnd.jupyter.widget-view+json": {
       "model_id": "9a5898759d7c49b8b151e79f706d4110",
       "version_major": 2,
       "version_minor": 0
      },
      "text/plain": [
       "HBox(children=(FloatProgress(value=1.0, bar_style='info', description='Validating', layout=Layout(flex='2'), m…"
      ]
     },
     "metadata": {},
     "output_type": "display_data"
    },
    {
     "data": {
      "application/vnd.jupyter.widget-view+json": {
       "model_id": "d70fda093f4540b9a2585831d4653aab",
       "version_major": 2,
       "version_minor": 0
      },
      "text/plain": [
       "HBox(children=(FloatProgress(value=1.0, bar_style='info', description='Validating', layout=Layout(flex='2'), m…"
      ]
     },
     "metadata": {},
     "output_type": "display_data"
    },
    {
     "data": {
      "application/vnd.jupyter.widget-view+json": {
       "model_id": "82436706b42d420eadb5bc8cb19cb145",
       "version_major": 2,
       "version_minor": 0
      },
      "text/plain": [
       "HBox(children=(FloatProgress(value=1.0, bar_style='info', description='Validating', layout=Layout(flex='2'), m…"
      ]
     },
     "metadata": {},
     "output_type": "display_data"
    },
    {
     "data": {
      "application/vnd.jupyter.widget-view+json": {
       "model_id": "6e87f24c72e0441c80fac5a6c86d42c9",
       "version_major": 2,
       "version_minor": 0
      },
      "text/plain": [
       "HBox(children=(FloatProgress(value=1.0, bar_style='info', description='Validating', layout=Layout(flex='2'), m…"
      ]
     },
     "metadata": {},
     "output_type": "display_data"
    },
    {
     "data": {
      "application/vnd.jupyter.widget-view+json": {
       "model_id": "fee8a157a50f4a3e9e9d231cd4964307",
       "version_major": 2,
       "version_minor": 0
      },
      "text/plain": [
       "HBox(children=(FloatProgress(value=1.0, bar_style='info', description='Validating', layout=Layout(flex='2'), m…"
      ]
     },
     "metadata": {},
     "output_type": "display_data"
    },
    {
     "data": {
      "application/vnd.jupyter.widget-view+json": {
       "model_id": "4b5b71fc2baf4dd5bd3edb57b567168f",
       "version_major": 2,
       "version_minor": 0
      },
      "text/plain": [
       "HBox(children=(FloatProgress(value=1.0, bar_style='info', description='Validating', layout=Layout(flex='2'), m…"
      ]
     },
     "metadata": {},
     "output_type": "display_data"
    },
    {
     "data": {
      "application/vnd.jupyter.widget-view+json": {
       "model_id": "447ea3719e834e3cb572ef42d8db5523",
       "version_major": 2,
       "version_minor": 0
      },
      "text/plain": [
       "HBox(children=(FloatProgress(value=1.0, bar_style='info', description='Validating', layout=Layout(flex='2'), m…"
      ]
     },
     "metadata": {},
     "output_type": "display_data"
    },
    {
     "data": {
      "application/vnd.jupyter.widget-view+json": {
       "model_id": "725a706bb68c4c2e982caf481ba85b1b",
       "version_major": 2,
       "version_minor": 0
      },
      "text/plain": [
       "HBox(children=(FloatProgress(value=1.0, bar_style='info', description='Validating', layout=Layout(flex='2'), m…"
      ]
     },
     "metadata": {},
     "output_type": "display_data"
    },
    {
     "data": {
      "application/vnd.jupyter.widget-view+json": {
       "model_id": "f9ac0290a261493f83e5db24a26c313b",
       "version_major": 2,
       "version_minor": 0
      },
      "text/plain": [
       "HBox(children=(FloatProgress(value=1.0, bar_style='info', description='Validating', layout=Layout(flex='2'), m…"
      ]
     },
     "metadata": {},
     "output_type": "display_data"
    },
    {
     "data": {
      "application/vnd.jupyter.widget-view+json": {
       "model_id": "dd17fb832a754389b3b3211502c4403f",
       "version_major": 2,
       "version_minor": 0
      },
      "text/plain": [
       "HBox(children=(FloatProgress(value=1.0, bar_style='info', description='Validating', layout=Layout(flex='2'), m…"
      ]
     },
     "metadata": {},
     "output_type": "display_data"
    },
    {
     "data": {
      "application/vnd.jupyter.widget-view+json": {
       "model_id": "74516156237343dab498c5ea7bf89a03",
       "version_major": 2,
       "version_minor": 0
      },
      "text/plain": [
       "HBox(children=(FloatProgress(value=1.0, bar_style='info', description='Validating', layout=Layout(flex='2'), m…"
      ]
     },
     "metadata": {},
     "output_type": "display_data"
    },
    {
     "data": {
      "application/vnd.jupyter.widget-view+json": {
       "model_id": "cc03cc6056ee4dd498e1348731d18d16",
       "version_major": 2,
       "version_minor": 0
      },
      "text/plain": [
       "HBox(children=(FloatProgress(value=1.0, bar_style='info', description='Validating', layout=Layout(flex='2'), m…"
      ]
     },
     "metadata": {},
     "output_type": "display_data"
    },
    {
     "data": {
      "application/vnd.jupyter.widget-view+json": {
       "model_id": "a7252bafeabb459aab92ef8764d51a01",
       "version_major": 2,
       "version_minor": 0
      },
      "text/plain": [
       "HBox(children=(FloatProgress(value=1.0, bar_style='info', description='Validating', layout=Layout(flex='2'), m…"
      ]
     },
     "metadata": {},
     "output_type": "display_data"
    },
    {
     "data": {
      "application/vnd.jupyter.widget-view+json": {
       "model_id": "b77419f0c879482f89999e07b6033330",
       "version_major": 2,
       "version_minor": 0
      },
      "text/plain": [
       "HBox(children=(FloatProgress(value=1.0, bar_style='info', description='Validating', layout=Layout(flex='2'), m…"
      ]
     },
     "metadata": {},
     "output_type": "display_data"
    },
    {
     "data": {
      "application/vnd.jupyter.widget-view+json": {
       "model_id": "70247c00e10d4a1d921e9da4615db4bf",
       "version_major": 2,
       "version_minor": 0
      },
      "text/plain": [
       "HBox(children=(FloatProgress(value=1.0, bar_style='info', description='Validating', layout=Layout(flex='2'), m…"
      ]
     },
     "metadata": {},
     "output_type": "display_data"
    },
    {
     "data": {
      "application/vnd.jupyter.widget-view+json": {
       "model_id": "1db9ddde7cce4f33b430dafd0aa81717",
       "version_major": 2,
       "version_minor": 0
      },
      "text/plain": [
       "HBox(children=(FloatProgress(value=1.0, bar_style='info', description='Validating', layout=Layout(flex='2'), m…"
      ]
     },
     "metadata": {},
     "output_type": "display_data"
    },
    {
     "data": {
      "application/vnd.jupyter.widget-view+json": {
       "model_id": "747bc7bb33a34aa896d10cfa42ac3677",
       "version_major": 2,
       "version_minor": 0
      },
      "text/plain": [
       "HBox(children=(FloatProgress(value=1.0, bar_style='info', description='Validating', layout=Layout(flex='2'), m…"
      ]
     },
     "metadata": {},
     "output_type": "display_data"
    },
    {
     "data": {
      "application/vnd.jupyter.widget-view+json": {
       "model_id": "071a49344dce401e900267837b1d1734",
       "version_major": 2,
       "version_minor": 0
      },
      "text/plain": [
       "HBox(children=(FloatProgress(value=1.0, bar_style='info', description='Validating', layout=Layout(flex='2'), m…"
      ]
     },
     "metadata": {},
     "output_type": "display_data"
    },
    {
     "data": {
      "application/vnd.jupyter.widget-view+json": {
       "model_id": "9a4453d2ff8241ca93fb33670456bf81",
       "version_major": 2,
       "version_minor": 0
      },
      "text/plain": [
       "HBox(children=(FloatProgress(value=1.0, bar_style='info', description='Validating', layout=Layout(flex='2'), m…"
      ]
     },
     "metadata": {},
     "output_type": "display_data"
    },
    {
     "data": {
      "application/vnd.jupyter.widget-view+json": {
       "model_id": "c88871afe2b44fe9ad9f1a217a06d1fe",
       "version_major": 2,
       "version_minor": 0
      },
      "text/plain": [
       "HBox(children=(FloatProgress(value=1.0, bar_style='info', description='Validating', layout=Layout(flex='2'), m…"
      ]
     },
     "metadata": {},
     "output_type": "display_data"
    },
    {
     "data": {
      "application/vnd.jupyter.widget-view+json": {
       "model_id": "97528e3dc9374aba90e59d7feb3dfc3d",
       "version_major": 2,
       "version_minor": 0
      },
      "text/plain": [
       "HBox(children=(FloatProgress(value=1.0, bar_style='info', description='Validating', layout=Layout(flex='2'), m…"
      ]
     },
     "metadata": {},
     "output_type": "display_data"
    },
    {
     "data": {
      "application/vnd.jupyter.widget-view+json": {
       "model_id": "5259d6c15c8a48c89cbdb8be8e688880",
       "version_major": 2,
       "version_minor": 0
      },
      "text/plain": [
       "HBox(children=(FloatProgress(value=1.0, bar_style='info', description='Validating', layout=Layout(flex='2'), m…"
      ]
     },
     "metadata": {},
     "output_type": "display_data"
    },
    {
     "name": "stderr",
     "output_type": "stream",
     "text": [
      "GPU available: True, used: True\n",
      "No environment variable for node rank defined. Set as 0.\n",
      "CUDA_VISIBLE_DEVICES: [0]\n"
     ]
    },
    {
     "name": "stdout",
     "output_type": "stream",
     "text": [
      "\n",
      "run_name: ResNet-breadth-mid-chan-100-drop-0\n",
      "run 6 out of 8, 0.75 finished!\n",
      "Starting training for 22 epochs with early stopping...\n",
      "\n",
      "Files already downloaded and verified\n",
      "Files already downloaded and verified\n"
     ]
    },
    {
     "data": {
      "text/html": [
       "\n",
       "            Using <a href=\"https://wandb.com\" target=\"_blank\">Weights & Biases</a> in dryrun mode. Not logging results to the cloud.<br/>\n",
       "            Call wandb.login() to authenticate this machine.<br/>\n",
       "        "
      ],
      "text/plain": [
       "<IPython.core.display.HTML object>"
      ]
     },
     "metadata": {},
     "output_type": "display_data"
    },
    {
     "name": "stderr",
     "output_type": "stream",
     "text": [
      "wandb: Wandb version 0.9.1 is available!  To upgrade, please run:\n",
      "wandb:  $ pip install wandb --upgrade\n",
      "\n",
      "   | Name                  | Type        | Params\n",
      "--------------------------------------------------\n",
      "0  | FirstConv             | ConvBlock   | 480   \n",
      "1  | FirstConv.Conv2d      | Conv2d      | 448   \n",
      "2  | FirstConv.BatchNorm2d | BatchNorm2d | 32    \n",
      "3  | cv_bundle1            | Sequential  | 14 K  \n",
      "4  | cv_bundle1.0          | ResNetBlock | 4 K   \n",
      "5  | cv_bundle1.0.conv1    | Conv2d      | 2 K   \n",
      "6  | cv_bundle1.0.conv2    | Conv2d      | 2 K   \n",
      "7  | cv_bundle1.0.bn1      | BatchNorm2d | 32    \n",
      "8  | cv_bundle1.0.bn2      | BatchNorm2d | 32    \n",
      "9  | cv_bundle1.1          | ResNetBlock | 4 K   \n",
      "10 | cv_bundle1.1.conv1    | Conv2d      | 2 K   \n",
      "11 | cv_bundle1.1.conv2    | Conv2d      | 2 K   \n",
      "12 | cv_bundle1.1.bn1      | BatchNorm2d | 32    \n",
      "13 | cv_bundle1.1.bn2      | BatchNorm2d | 32    \n",
      "14 | cv_bundle1.2          | ResNetBlock | 4 K   \n",
      "15 | cv_bundle1.2.conv1    | Conv2d      | 2 K   \n",
      "16 | cv_bundle1.2.conv2    | Conv2d      | 2 K   \n",
      "17 | cv_bundle1.2.bn1      | BatchNorm2d | 32    \n",
      "18 | cv_bundle1.2.bn2      | BatchNorm2d | 32    \n",
      "19 | cv_bundle2            | Sequential  | 466 K \n",
      "20 | cv_bundle2.0          | ResNetBlock | 105 K \n",
      "21 | cv_bundle2.0.conv1    | Conv2d      | 14 K  \n",
      "22 | cv_bundle2.0.conv2    | Conv2d      | 90 K  \n",
      "23 | cv_bundle2.0.bn1      | BatchNorm2d | 200   \n",
      "24 | cv_bundle2.0.bn2      | BatchNorm2d | 200   \n",
      "25 | cv_bundle2.1          | ResNetBlock | 180 K \n",
      "26 | cv_bundle2.1.conv1    | Conv2d      | 90 K  \n",
      "27 | cv_bundle2.1.conv2    | Conv2d      | 90 K  \n",
      "28 | cv_bundle2.1.bn1      | BatchNorm2d | 200   \n",
      "29 | cv_bundle2.1.bn2      | BatchNorm2d | 200   \n",
      "30 | cv_bundle2.2          | ResNetBlock | 180 K \n",
      "31 | cv_bundle2.2.conv1    | Conv2d      | 90 K  \n",
      "32 | cv_bundle2.2.conv2    | Conv2d      | 90 K  \n",
      "33 | cv_bundle2.2.bn1      | BatchNorm2d | 200   \n",
      "34 | cv_bundle2.2.bn2      | BatchNorm2d | 200   \n",
      "35 | cv_bundle3            | Sequential  | 243 K \n",
      "36 | cv_bundle3.0          | ResNetBlock | 94 K  \n",
      "37 | cv_bundle3.0.conv1    | Conv2d      | 57 K  \n",
      "38 | cv_bundle3.0.conv2    | Conv2d      | 36 K  \n",
      "39 | cv_bundle3.0.bn1      | BatchNorm2d | 128   \n",
      "40 | cv_bundle3.0.bn2      | BatchNorm2d | 128   \n",
      "41 | cv_bundle3.1          | ResNetBlock | 74 K  \n",
      "42 | cv_bundle3.1.conv1    | Conv2d      | 36 K  \n",
      "43 | cv_bundle3.1.conv2    | Conv2d      | 36 K  \n",
      "44 | cv_bundle3.1.bn1      | BatchNorm2d | 128   \n",
      "45 | cv_bundle3.1.bn2      | BatchNorm2d | 128   \n",
      "46 | cv_bundle3.2          | ResNetBlock | 74 K  \n",
      "47 | cv_bundle3.2.conv1    | Conv2d      | 36 K  \n",
      "48 | cv_bundle3.2.conv2    | Conv2d      | 36 K  \n",
      "49 | cv_bundle3.2.bn1      | BatchNorm2d | 128   \n",
      "50 | cv_bundle3.2.bn2      | BatchNorm2d | 128   \n",
      "51 | FcBlock               | Linear      | 650   \n",
      "52 | AvgPool2d             | AvgPool2d   | 0     \n"
     ]
    },
    {
     "data": {
      "application/vnd.jupyter.widget-view+json": {
       "model_id": "359ee12e4a6a4bf5ad4b37cac8dc87ab",
       "version_major": 2,
       "version_minor": 0
      },
      "text/plain": [
       "HBox(children=(FloatProgress(value=1.0, bar_style='info', description='Validation sanity check', layout=Layout…"
      ]
     },
     "metadata": {},
     "output_type": "display_data"
    },
    {
     "data": {
      "application/vnd.jupyter.widget-view+json": {
       "model_id": "48adbcd2e6eb469081f04853b2aaee64",
       "version_major": 2,
       "version_minor": 0
      },
      "text/plain": [
       "HBox(children=(FloatProgress(value=1.0, bar_style='info', description='Training', layout=Layout(flex='2'), max…"
      ]
     },
     "metadata": {},
     "output_type": "display_data"
    },
    {
     "name": "stderr",
     "output_type": "stream",
     "text": [
      "wandb: WARNING Adding to old History rows isn't currently supported.  Step 0 < 1; dropping {'train_loss': 4.083614826202393, 'train_acc': 0.09, 'epoch': 0}.\n"
     ]
    },
    {
     "data": {
      "application/vnd.jupyter.widget-view+json": {
       "model_id": "59e6a74d25bf4003bb3293714ffb4f9c",
       "version_major": 2,
       "version_minor": 0
      },
      "text/plain": [
       "HBox(children=(FloatProgress(value=1.0, bar_style='info', description='Validating', layout=Layout(flex='2'), m…"
      ]
     },
     "metadata": {},
     "output_type": "display_data"
    },
    {
     "data": {
      "application/vnd.jupyter.widget-view+json": {
       "model_id": "dca80c20ec744ac78c910707e38c1f96",
       "version_major": 2,
       "version_minor": 0
      },
      "text/plain": [
       "HBox(children=(FloatProgress(value=1.0, bar_style='info', description='Validating', layout=Layout(flex='2'), m…"
      ]
     },
     "metadata": {},
     "output_type": "display_data"
    },
    {
     "data": {
      "application/vnd.jupyter.widget-view+json": {
       "model_id": "1ade35c7dc1a4262ab88e8aec19dcf35",
       "version_major": 2,
       "version_minor": 0
      },
      "text/plain": [
       "HBox(children=(FloatProgress(value=1.0, bar_style='info', description='Validating', layout=Layout(flex='2'), m…"
      ]
     },
     "metadata": {},
     "output_type": "display_data"
    },
    {
     "data": {
      "application/vnd.jupyter.widget-view+json": {
       "model_id": "5a8ddc8b532a4f7fa651921fdd57cbca",
       "version_major": 2,
       "version_minor": 0
      },
      "text/plain": [
       "HBox(children=(FloatProgress(value=1.0, bar_style='info', description='Validating', layout=Layout(flex='2'), m…"
      ]
     },
     "metadata": {},
     "output_type": "display_data"
    },
    {
     "data": {
      "application/vnd.jupyter.widget-view+json": {
       "model_id": "b18473e99aef4a9181705c4290c24262",
       "version_major": 2,
       "version_minor": 0
      },
      "text/plain": [
       "HBox(children=(FloatProgress(value=1.0, bar_style='info', description='Validating', layout=Layout(flex='2'), m…"
      ]
     },
     "metadata": {},
     "output_type": "display_data"
    },
    {
     "data": {
      "application/vnd.jupyter.widget-view+json": {
       "model_id": "d4d839d7212644aea6a890d3c3e1bd00",
       "version_major": 2,
       "version_minor": 0
      },
      "text/plain": [
       "HBox(children=(FloatProgress(value=1.0, bar_style='info', description='Validating', layout=Layout(flex='2'), m…"
      ]
     },
     "metadata": {},
     "output_type": "display_data"
    },
    {
     "data": {
      "application/vnd.jupyter.widget-view+json": {
       "model_id": "0c572e6742af4be9a5a0410628dcfe1d",
       "version_major": 2,
       "version_minor": 0
      },
      "text/plain": [
       "HBox(children=(FloatProgress(value=1.0, bar_style='info', description='Validating', layout=Layout(flex='2'), m…"
      ]
     },
     "metadata": {},
     "output_type": "display_data"
    },
    {
     "data": {
      "application/vnd.jupyter.widget-view+json": {
       "model_id": "71b83e54afac4b2b8fdd70d33991026d",
       "version_major": 2,
       "version_minor": 0
      },
      "text/plain": [
       "HBox(children=(FloatProgress(value=1.0, bar_style='info', description='Validating', layout=Layout(flex='2'), m…"
      ]
     },
     "metadata": {},
     "output_type": "display_data"
    },
    {
     "data": {
      "application/vnd.jupyter.widget-view+json": {
       "model_id": "b2308152eb21481da067c093c586911f",
       "version_major": 2,
       "version_minor": 0
      },
      "text/plain": [
       "HBox(children=(FloatProgress(value=1.0, bar_style='info', description='Validating', layout=Layout(flex='2'), m…"
      ]
     },
     "metadata": {},
     "output_type": "display_data"
    },
    {
     "data": {
      "application/vnd.jupyter.widget-view+json": {
       "model_id": "0463458a906b469698e2df67ba7a44ee",
       "version_major": 2,
       "version_minor": 0
      },
      "text/plain": [
       "HBox(children=(FloatProgress(value=1.0, bar_style='info', description='Validating', layout=Layout(flex='2'), m…"
      ]
     },
     "metadata": {},
     "output_type": "display_data"
    },
    {
     "data": {
      "application/vnd.jupyter.widget-view+json": {
       "model_id": "76b90859ec1649d7ad424888c6daa6b6",
       "version_major": 2,
       "version_minor": 0
      },
      "text/plain": [
       "HBox(children=(FloatProgress(value=1.0, bar_style='info', description='Validating', layout=Layout(flex='2'), m…"
      ]
     },
     "metadata": {},
     "output_type": "display_data"
    },
    {
     "data": {
      "application/vnd.jupyter.widget-view+json": {
       "model_id": "638dc87f2147493d9ac4c35787b1b753",
       "version_major": 2,
       "version_minor": 0
      },
      "text/plain": [
       "HBox(children=(FloatProgress(value=1.0, bar_style='info', description='Validating', layout=Layout(flex='2'), m…"
      ]
     },
     "metadata": {},
     "output_type": "display_data"
    },
    {
     "data": {
      "application/vnd.jupyter.widget-view+json": {
       "model_id": "4c2809e203b542f5839433d3d643fa0f",
       "version_major": 2,
       "version_minor": 0
      },
      "text/plain": [
       "HBox(children=(FloatProgress(value=1.0, bar_style='info', description='Validating', layout=Layout(flex='2'), m…"
      ]
     },
     "metadata": {},
     "output_type": "display_data"
    },
    {
     "data": {
      "application/vnd.jupyter.widget-view+json": {
       "model_id": "5e570609add541d2a7f07b30742e05b0",
       "version_major": 2,
       "version_minor": 0
      },
      "text/plain": [
       "HBox(children=(FloatProgress(value=1.0, bar_style='info', description='Validating', layout=Layout(flex='2'), m…"
      ]
     },
     "metadata": {},
     "output_type": "display_data"
    },
    {
     "data": {
      "application/vnd.jupyter.widget-view+json": {
       "model_id": "f20058c74e174da89dab4124d6d2d64b",
       "version_major": 2,
       "version_minor": 0
      },
      "text/plain": [
       "HBox(children=(FloatProgress(value=1.0, bar_style='info', description='Validating', layout=Layout(flex='2'), m…"
      ]
     },
     "metadata": {},
     "output_type": "display_data"
    },
    {
     "data": {
      "application/vnd.jupyter.widget-view+json": {
       "model_id": "2feedf8a8fd7437e9b2aea0f9d9eb5cc",
       "version_major": 2,
       "version_minor": 0
      },
      "text/plain": [
       "HBox(children=(FloatProgress(value=1.0, bar_style='info', description='Validating', layout=Layout(flex='2'), m…"
      ]
     },
     "metadata": {},
     "output_type": "display_data"
    },
    {
     "data": {
      "application/vnd.jupyter.widget-view+json": {
       "model_id": "5ab11f3da9c844aeacb220dfebadb199",
       "version_major": 2,
       "version_minor": 0
      },
      "text/plain": [
       "HBox(children=(FloatProgress(value=1.0, bar_style='info', description='Validating', layout=Layout(flex='2'), m…"
      ]
     },
     "metadata": {},
     "output_type": "display_data"
    },
    {
     "data": {
      "application/vnd.jupyter.widget-view+json": {
       "model_id": "c9b9b4ec75054ed994b1faf87e1a14af",
       "version_major": 2,
       "version_minor": 0
      },
      "text/plain": [
       "HBox(children=(FloatProgress(value=1.0, bar_style='info', description='Validating', layout=Layout(flex='2'), m…"
      ]
     },
     "metadata": {},
     "output_type": "display_data"
    },
    {
     "data": {
      "application/vnd.jupyter.widget-view+json": {
       "model_id": "1b2eca01d54047628446d412a31d0523",
       "version_major": 2,
       "version_minor": 0
      },
      "text/plain": [
       "HBox(children=(FloatProgress(value=1.0, bar_style='info', description='Validating', layout=Layout(flex='2'), m…"
      ]
     },
     "metadata": {},
     "output_type": "display_data"
    },
    {
     "data": {
      "application/vnd.jupyter.widget-view+json": {
       "model_id": "12edb959f65c4bda84892b03c238ce2c",
       "version_major": 2,
       "version_minor": 0
      },
      "text/plain": [
       "HBox(children=(FloatProgress(value=1.0, bar_style='info', description='Validating', layout=Layout(flex='2'), m…"
      ]
     },
     "metadata": {},
     "output_type": "display_data"
    },
    {
     "data": {
      "application/vnd.jupyter.widget-view+json": {
       "model_id": "96b7eebaac98451eaa1e7d70c0ccb867",
       "version_major": 2,
       "version_minor": 0
      },
      "text/plain": [
       "HBox(children=(FloatProgress(value=1.0, bar_style='info', description='Validating', layout=Layout(flex='2'), m…"
      ]
     },
     "metadata": {},
     "output_type": "display_data"
    },
    {
     "data": {
      "application/vnd.jupyter.widget-view+json": {
       "model_id": "912650f7a9184aee9a8044dfdaceef61",
       "version_major": 2,
       "version_minor": 0
      },
      "text/plain": [
       "HBox(children=(FloatProgress(value=1.0, bar_style='info', description='Validating', layout=Layout(flex='2'), m…"
      ]
     },
     "metadata": {},
     "output_type": "display_data"
    },
    {
     "name": "stderr",
     "output_type": "stream",
     "text": [
      "GPU available: True, used: True\n",
      "No environment variable for node rank defined. Set as 0.\n",
      "CUDA_VISIBLE_DEVICES: [0]\n"
     ]
    },
    {
     "name": "stdout",
     "output_type": "stream",
     "text": [
      "\n",
      "run_name: ResNet-breadth-mid-chan-100-drop-0.02\n",
      "run 7 out of 8, 0.88 finished!\n",
      "Starting training for 22 epochs with early stopping...\n",
      "\n",
      "Files already downloaded and verified\n",
      "Files already downloaded and verified\n"
     ]
    },
    {
     "data": {
      "text/html": [
       "\n",
       "            Using <a href=\"https://wandb.com\" target=\"_blank\">Weights & Biases</a> in dryrun mode. Not logging results to the cloud.<br/>\n",
       "            Call wandb.login() to authenticate this machine.<br/>\n",
       "        "
      ],
      "text/plain": [
       "<IPython.core.display.HTML object>"
      ]
     },
     "metadata": {},
     "output_type": "display_data"
    },
    {
     "name": "stderr",
     "output_type": "stream",
     "text": [
      "wandb: Wandb version 0.9.1 is available!  To upgrade, please run:\n",
      "wandb:  $ pip install wandb --upgrade\n",
      "\n",
      "   | Name                  | Type        | Params\n",
      "--------------------------------------------------\n",
      "0  | FirstConv             | ConvBlock   | 480   \n",
      "1  | FirstConv.Conv2d      | Conv2d      | 448   \n",
      "2  | FirstConv.BatchNorm2d | BatchNorm2d | 32    \n",
      "3  | cv_bundle1            | Sequential  | 14 K  \n",
      "4  | cv_bundle1.0          | ResNetBlock | 4 K   \n",
      "5  | cv_bundle1.0.conv1    | Conv2d      | 2 K   \n",
      "6  | cv_bundle1.0.conv2    | Conv2d      | 2 K   \n",
      "7  | cv_bundle1.0.bn1      | BatchNorm2d | 32    \n",
      "8  | cv_bundle1.0.bn2      | BatchNorm2d | 32    \n",
      "9  | cv_bundle1.0.dropout1 | Dropout2d   | 0     \n",
      "10 | cv_bundle1.0.dropout2 | Dropout2d   | 0     \n",
      "11 | cv_bundle1.1          | ResNetBlock | 4 K   \n",
      "12 | cv_bundle1.1.conv1    | Conv2d      | 2 K   \n",
      "13 | cv_bundle1.1.conv2    | Conv2d      | 2 K   \n",
      "14 | cv_bundle1.1.bn1      | BatchNorm2d | 32    \n",
      "15 | cv_bundle1.1.bn2      | BatchNorm2d | 32    \n",
      "16 | cv_bundle1.1.dropout1 | Dropout2d   | 0     \n",
      "17 | cv_bundle1.1.dropout2 | Dropout2d   | 0     \n",
      "18 | cv_bundle1.2          | ResNetBlock | 4 K   \n",
      "19 | cv_bundle1.2.conv1    | Conv2d      | 2 K   \n",
      "20 | cv_bundle1.2.conv2    | Conv2d      | 2 K   \n",
      "21 | cv_bundle1.2.bn1      | BatchNorm2d | 32    \n",
      "22 | cv_bundle1.2.bn2      | BatchNorm2d | 32    \n",
      "23 | cv_bundle1.2.dropout1 | Dropout2d   | 0     \n",
      "24 | cv_bundle1.2.dropout2 | Dropout2d   | 0     \n",
      "25 | cv_bundle2            | Sequential  | 466 K \n",
      "26 | cv_bundle2.0          | ResNetBlock | 105 K \n",
      "27 | cv_bundle2.0.conv1    | Conv2d      | 14 K  \n",
      "28 | cv_bundle2.0.conv2    | Conv2d      | 90 K  \n",
      "29 | cv_bundle2.0.bn1      | BatchNorm2d | 200   \n",
      "30 | cv_bundle2.0.bn2      | BatchNorm2d | 200   \n",
      "31 | cv_bundle2.0.dropout1 | Dropout2d   | 0     \n",
      "32 | cv_bundle2.0.dropout2 | Dropout2d   | 0     \n",
      "33 | cv_bundle2.1          | ResNetBlock | 180 K \n",
      "34 | cv_bundle2.1.conv1    | Conv2d      | 90 K  \n",
      "35 | cv_bundle2.1.conv2    | Conv2d      | 90 K  \n",
      "36 | cv_bundle2.1.bn1      | BatchNorm2d | 200   \n",
      "37 | cv_bundle2.1.bn2      | BatchNorm2d | 200   \n",
      "38 | cv_bundle2.1.dropout1 | Dropout2d   | 0     \n",
      "39 | cv_bundle2.1.dropout2 | Dropout2d   | 0     \n",
      "40 | cv_bundle2.2          | ResNetBlock | 180 K \n",
      "41 | cv_bundle2.2.conv1    | Conv2d      | 90 K  \n",
      "42 | cv_bundle2.2.conv2    | Conv2d      | 90 K  \n",
      "43 | cv_bundle2.2.bn1      | BatchNorm2d | 200   \n",
      "44 | cv_bundle2.2.bn2      | BatchNorm2d | 200   \n",
      "45 | cv_bundle2.2.dropout1 | Dropout2d   | 0     \n",
      "46 | cv_bundle2.2.dropout2 | Dropout2d   | 0     \n",
      "47 | cv_bundle3            | Sequential  | 243 K \n",
      "48 | cv_bundle3.0          | ResNetBlock | 94 K  \n",
      "49 | cv_bundle3.0.conv1    | Conv2d      | 57 K  \n",
      "50 | cv_bundle3.0.conv2    | Conv2d      | 36 K  \n",
      "51 | cv_bundle3.0.bn1      | BatchNorm2d | 128   \n",
      "52 | cv_bundle3.0.bn2      | BatchNorm2d | 128   \n",
      "53 | cv_bundle3.0.dropout1 | Dropout2d   | 0     \n",
      "54 | cv_bundle3.0.dropout2 | Dropout2d   | 0     \n",
      "55 | cv_bundle3.1          | ResNetBlock | 74 K  \n",
      "56 | cv_bundle3.1.conv1    | Conv2d      | 36 K  \n",
      "57 | cv_bundle3.1.conv2    | Conv2d      | 36 K  \n",
      "58 | cv_bundle3.1.bn1      | BatchNorm2d | 128   \n",
      "59 | cv_bundle3.1.bn2      | BatchNorm2d | 128   \n",
      "60 | cv_bundle3.1.dropout1 | Dropout2d   | 0     \n",
      "61 | cv_bundle3.1.dropout2 | Dropout2d   | 0     \n",
      "62 | cv_bundle3.2          | ResNetBlock | 74 K  \n",
      "63 | cv_bundle3.2.conv1    | Conv2d      | 36 K  \n",
      "64 | cv_bundle3.2.conv2    | Conv2d      | 36 K  \n",
      "65 | cv_bundle3.2.bn1      | BatchNorm2d | 128   \n",
      "66 | cv_bundle3.2.bn2      | BatchNorm2d | 128   \n",
      "67 | cv_bundle3.2.dropout1 | Dropout2d   | 0     \n",
      "68 | cv_bundle3.2.dropout2 | Dropout2d   | 0     \n",
      "69 | FcBlock               | Linear      | 650   \n",
      "70 | AvgPool2d             | AvgPool2d   | 0     \n"
     ]
    },
    {
     "data": {
      "application/vnd.jupyter.widget-view+json": {
       "model_id": "69706eae6c65444baa42196a97a42e87",
       "version_major": 2,
       "version_minor": 0
      },
      "text/plain": [
       "HBox(children=(FloatProgress(value=1.0, bar_style='info', description='Validation sanity check', layout=Layout…"
      ]
     },
     "metadata": {},
     "output_type": "display_data"
    },
    {
     "data": {
      "application/vnd.jupyter.widget-view+json": {
       "model_id": "ae6d25210f3a4246bbc2fd0867274901",
       "version_major": 2,
       "version_minor": 0
      },
      "text/plain": [
       "HBox(children=(FloatProgress(value=1.0, bar_style='info', description='Training', layout=Layout(flex='2'), max…"
      ]
     },
     "metadata": {},
     "output_type": "display_data"
    },
    {
     "name": "stderr",
     "output_type": "stream",
     "text": [
      "wandb: WARNING Adding to old History rows isn't currently supported.  Step 0 < 1; dropping {'train_loss': 2.946197748184204, 'train_acc': 0.15, 'epoch': 0}.\n"
     ]
    },
    {
     "data": {
      "application/vnd.jupyter.widget-view+json": {
       "model_id": "d30bb77846bd4590918b639ad85bd909",
       "version_major": 2,
       "version_minor": 0
      },
      "text/plain": [
       "HBox(children=(FloatProgress(value=1.0, bar_style='info', description='Validating', layout=Layout(flex='2'), m…"
      ]
     },
     "metadata": {},
     "output_type": "display_data"
    },
    {
     "data": {
      "application/vnd.jupyter.widget-view+json": {
       "model_id": "013f0746d7804e05bbe66fd7d8abe34a",
       "version_major": 2,
       "version_minor": 0
      },
      "text/plain": [
       "HBox(children=(FloatProgress(value=1.0, bar_style='info', description='Validating', layout=Layout(flex='2'), m…"
      ]
     },
     "metadata": {},
     "output_type": "display_data"
    },
    {
     "data": {
      "application/vnd.jupyter.widget-view+json": {
       "model_id": "970f432aa1de4772b974d23a7c73c66a",
       "version_major": 2,
       "version_minor": 0
      },
      "text/plain": [
       "HBox(children=(FloatProgress(value=1.0, bar_style='info', description='Validating', layout=Layout(flex='2'), m…"
      ]
     },
     "metadata": {},
     "output_type": "display_data"
    },
    {
     "data": {
      "application/vnd.jupyter.widget-view+json": {
       "model_id": "ae80ed683b07482a85f80624eeb6b330",
       "version_major": 2,
       "version_minor": 0
      },
      "text/plain": [
       "HBox(children=(FloatProgress(value=1.0, bar_style='info', description='Validating', layout=Layout(flex='2'), m…"
      ]
     },
     "metadata": {},
     "output_type": "display_data"
    },
    {
     "data": {
      "application/vnd.jupyter.widget-view+json": {
       "model_id": "0d8ea647a7314b2f8e6698e89c5d9354",
       "version_major": 2,
       "version_minor": 0
      },
      "text/plain": [
       "HBox(children=(FloatProgress(value=1.0, bar_style='info', description='Validating', layout=Layout(flex='2'), m…"
      ]
     },
     "metadata": {},
     "output_type": "display_data"
    },
    {
     "data": {
      "application/vnd.jupyter.widget-view+json": {
       "model_id": "64f7248f254a4b2f86a8861f2c1016e9",
       "version_major": 2,
       "version_minor": 0
      },
      "text/plain": [
       "HBox(children=(FloatProgress(value=1.0, bar_style='info', description='Validating', layout=Layout(flex='2'), m…"
      ]
     },
     "metadata": {},
     "output_type": "display_data"
    },
    {
     "data": {
      "application/vnd.jupyter.widget-view+json": {
       "model_id": "df139f4258de40719022ee60b46510c2",
       "version_major": 2,
       "version_minor": 0
      },
      "text/plain": [
       "HBox(children=(FloatProgress(value=1.0, bar_style='info', description='Validating', layout=Layout(flex='2'), m…"
      ]
     },
     "metadata": {},
     "output_type": "display_data"
    },
    {
     "data": {
      "application/vnd.jupyter.widget-view+json": {
       "model_id": "82c6e2da7ac54190a17f813efa7ba3b2",
       "version_major": 2,
       "version_minor": 0
      },
      "text/plain": [
       "HBox(children=(FloatProgress(value=1.0, bar_style='info', description='Validating', layout=Layout(flex='2'), m…"
      ]
     },
     "metadata": {},
     "output_type": "display_data"
    },
    {
     "data": {
      "application/vnd.jupyter.widget-view+json": {
       "model_id": "b7355cad19674a4e966f835063c09835",
       "version_major": 2,
       "version_minor": 0
      },
      "text/plain": [
       "HBox(children=(FloatProgress(value=1.0, bar_style='info', description='Validating', layout=Layout(flex='2'), m…"
      ]
     },
     "metadata": {},
     "output_type": "display_data"
    },
    {
     "data": {
      "application/vnd.jupyter.widget-view+json": {
       "model_id": "318644faf2814b36a0698933808aa14c",
       "version_major": 2,
       "version_minor": 0
      },
      "text/plain": [
       "HBox(children=(FloatProgress(value=1.0, bar_style='info', description='Validating', layout=Layout(flex='2'), m…"
      ]
     },
     "metadata": {},
     "output_type": "display_data"
    },
    {
     "data": {
      "application/vnd.jupyter.widget-view+json": {
       "model_id": "7fd57a4c26784917b173c3a7037bb37e",
       "version_major": 2,
       "version_minor": 0
      },
      "text/plain": [
       "HBox(children=(FloatProgress(value=1.0, bar_style='info', description='Validating', layout=Layout(flex='2'), m…"
      ]
     },
     "metadata": {},
     "output_type": "display_data"
    },
    {
     "data": {
      "application/vnd.jupyter.widget-view+json": {
       "model_id": "a65e88ad091241d7adc20997f567769c",
       "version_major": 2,
       "version_minor": 0
      },
      "text/plain": [
       "HBox(children=(FloatProgress(value=1.0, bar_style='info', description='Validating', layout=Layout(flex='2'), m…"
      ]
     },
     "metadata": {},
     "output_type": "display_data"
    },
    {
     "data": {
      "application/vnd.jupyter.widget-view+json": {
       "model_id": "13c1ea05c5ca4f7c87e376d7749846d9",
       "version_major": 2,
       "version_minor": 0
      },
      "text/plain": [
       "HBox(children=(FloatProgress(value=1.0, bar_style='info', description='Validating', layout=Layout(flex='2'), m…"
      ]
     },
     "metadata": {},
     "output_type": "display_data"
    },
    {
     "data": {
      "application/vnd.jupyter.widget-view+json": {
       "model_id": "1ada337d44f74425be4cb7a628a5f85a",
       "version_major": 2,
       "version_minor": 0
      },
      "text/plain": [
       "HBox(children=(FloatProgress(value=1.0, bar_style='info', description='Validating', layout=Layout(flex='2'), m…"
      ]
     },
     "metadata": {},
     "output_type": "display_data"
    },
    {
     "data": {
      "application/vnd.jupyter.widget-view+json": {
       "model_id": "33b20d3623a34c589b3997a4d3d7fb54",
       "version_major": 2,
       "version_minor": 0
      },
      "text/plain": [
       "HBox(children=(FloatProgress(value=1.0, bar_style='info', description='Validating', layout=Layout(flex='2'), m…"
      ]
     },
     "metadata": {},
     "output_type": "display_data"
    },
    {
     "data": {
      "application/vnd.jupyter.widget-view+json": {
       "model_id": "5764c577c7dc4512bbcc731125af77cf",
       "version_major": 2,
       "version_minor": 0
      },
      "text/plain": [
       "HBox(children=(FloatProgress(value=1.0, bar_style='info', description='Validating', layout=Layout(flex='2'), m…"
      ]
     },
     "metadata": {},
     "output_type": "display_data"
    },
    {
     "data": {
      "application/vnd.jupyter.widget-view+json": {
       "model_id": "0584d7e9faf84772835f0d830f9920ed",
       "version_major": 2,
       "version_minor": 0
      },
      "text/plain": [
       "HBox(children=(FloatProgress(value=1.0, bar_style='info', description='Validating', layout=Layout(flex='2'), m…"
      ]
     },
     "metadata": {},
     "output_type": "display_data"
    },
    {
     "data": {
      "application/vnd.jupyter.widget-view+json": {
       "model_id": "63f38b8141e0450c89165f8f4fd87fc7",
       "version_major": 2,
       "version_minor": 0
      },
      "text/plain": [
       "HBox(children=(FloatProgress(value=1.0, bar_style='info', description='Validating', layout=Layout(flex='2'), m…"
      ]
     },
     "metadata": {},
     "output_type": "display_data"
    },
    {
     "data": {
      "application/vnd.jupyter.widget-view+json": {
       "model_id": "82a6c9cd041848c3a4e9c6fec73812a7",
       "version_major": 2,
       "version_minor": 0
      },
      "text/plain": [
       "HBox(children=(FloatProgress(value=1.0, bar_style='info', description='Validating', layout=Layout(flex='2'), m…"
      ]
     },
     "metadata": {},
     "output_type": "display_data"
    },
    {
     "data": {
      "application/vnd.jupyter.widget-view+json": {
       "model_id": "172846131e9c43b4b92d198420ee6137",
       "version_major": 2,
       "version_minor": 0
      },
      "text/plain": [
       "HBox(children=(FloatProgress(value=1.0, bar_style='info', description='Validating', layout=Layout(flex='2'), m…"
      ]
     },
     "metadata": {},
     "output_type": "display_data"
    },
    {
     "data": {
      "application/vnd.jupyter.widget-view+json": {
       "model_id": "058ab1f0a6e847ec85ae8dfe28745f3f",
       "version_major": 2,
       "version_minor": 0
      },
      "text/plain": [
       "HBox(children=(FloatProgress(value=1.0, bar_style='info', description='Validating', layout=Layout(flex='2'), m…"
      ]
     },
     "metadata": {},
     "output_type": "display_data"
    },
    {
     "data": {
      "application/vnd.jupyter.widget-view+json": {
       "model_id": "89d96b87c9694402b960dddce9197442",
       "version_major": 2,
       "version_minor": 0
      },
      "text/plain": [
       "HBox(children=(FloatProgress(value=1.0, bar_style='info', description='Validating', layout=Layout(flex='2'), m…"
      ]
     },
     "metadata": {},
     "output_type": "display_data"
    },
    {
     "name": "stdout",
     "output_type": "stream",
     "text": [
      "\n",
      "All runs finished!\n"
     ]
    }
   ],
   "source": [
    "i = 0\n",
    "for run_name, tag in zip(Model_configs, tags):\n",
    "    print('run_name:', run_name)\n",
    "    print(f'run {i} out of {len(Model_configs)}, {i/len(Model_configs):.2f} finished!')\n",
    "    trainer, model_chekpoint = set_trainer_and_logger(run_name, tags=tag)\n",
    "    M = ResNetCifar(Model_configs[run_name])\n",
    "    print('Starting training for 22 epochs with early stopping...\\n')\n",
    "    trainer.fit(M)\n",
    "    i += 1\n",
    "print('All runs finished!')"
   ]
  },
  {
   "cell_type": "code",
   "execution_count": null,
   "metadata": {},
   "outputs": [],
   "source": []
  }
 ],
 "metadata": {
  "kernelspec": {
   "display_name": "iDS",
   "language": "python",
   "name": "ids"
  },
  "language_info": {
   "codemirror_mode": {
    "name": "ipython",
    "version": 3
   },
   "file_extension": ".py",
   "mimetype": "text/x-python",
   "name": "python",
   "nbconvert_exporter": "python",
   "pygments_lexer": "ipython3",
   "version": "3.6.8"
  }
 },
 "nbformat": 4,
 "nbformat_minor": 2
}
