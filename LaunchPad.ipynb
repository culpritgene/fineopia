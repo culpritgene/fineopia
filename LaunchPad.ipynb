{
 "cells": [
  {
   "cell_type": "code",
   "execution_count": 1,
   "metadata": {},
   "outputs": [],
   "source": [
    "%load_ext autoreload\n",
    "%autoreload 2"
   ]
  },
  {
   "cell_type": "code",
   "execution_count": 2,
   "metadata": {},
   "outputs": [],
   "source": [
    "import matplotlib.pyplot as plt\n",
    "from collections import defaultdict\n",
    "import copy\n",
    "import os"
   ]
  },
  {
   "cell_type": "code",
   "execution_count": 6,
   "metadata": {},
   "outputs": [],
   "source": [
    "from CIFARnet import *"
   ]
  },
  {
   "cell_type": "markdown",
   "metadata": {},
   "source": [
    "#### This notebook contains a collection of runs on the CIFAR10 dataset\n",
    "The file <b>'CIFARnet.py'</b> in the same directory contains [pytorch-lightning](https://github.com/PyTorchLightning/pytorch-lightning) modules for CIFARnet (LeNet variation) and ResNet. You can make your own module by inheriting from the <b>'CIFARnetTemplate'</b> class instead of <b>'torch.nn.Module'</b> and providing a mandatory argument <i>hparams</i> (Union[dict, argparse.Namespace]) with specified <i>'learning_rate'</i>, <i>'batch_size'</i> and <i>'weight_decay'</i> attributes. All runs were logged to Weights and Biases platform and a short report with their analysis can be found here: https://app.wandb.ai/culpritgene/cifar10_canonical/reports/CIFAR10-classification-with-ResNet-and-a-simple-convnet.--VmlldzoxMzkwMDA"
   ]
  },
  {
   "cell_type": "code",
   "execution_count": 6,
   "metadata": {},
   "outputs": [],
   "source": [
    "def configure_CIFARnet():\n",
    "    ### Configure Convolutional Blocks\n",
    "    ConvBlockTemplate = {'kernel_size':(3,3),'stride':1, 'padding':1,\n",
    "                     'pool_kernel_size':(2, 2), 'pool_stride':(2, 2),\n",
    "                     'dropout_rate':0,\n",
    "                     'BatchNorm':True,\n",
    "                     'activation':'relu'}\n",
    "\n",
    "    Conv2dBlocks = defaultdict(lambda: ConvBlockTemplate.copy())\n",
    "    Conv2dBlocks['cvb1'].update({'Cin':3, 'Cout':16})\n",
    "    Conv2dBlocks['cvb2'].update({'Cin':16, 'Cout':32})\n",
    "    Conv2dBlocks['cvb3'].update({'Cin':32, 'Cout':64, 'dropout_rate':0.3})\n",
    "    Conv2dBlocks['cvb4'].update({'Cin':64, 'Cout':128,})\n",
    "    del Conv2dBlocks['cvb4']['pool_kernel_size']\n",
    "    del Conv2dBlocks['cvb4']['pool_stride']\n",
    "    ConvBlocksTypes = ['MaxPool', 'MaxPool', 'MaxPool', 'Conv']\n",
    "\n",
    "    ### Configure FC block\n",
    "    FcBlock = {'params':(4*4*128, 512, 256, 10),\n",
    "                      'activations': ('relu','tanh','None'),\n",
    "                      'dropouts': (0.3, 0.3, 0),\n",
    "                      'BatchNorm1ds':(True, False, False),\n",
    "                      'bias':True,\n",
    "                      'xavier':True}\n",
    "\n",
    "    hparams = {'Conv2dBlocks':dict(Conv2dBlocks), 'ConvBlocksTypes':ConvBlocksTypes, 'FcBlock': FcBlock}\n",
    "    hparams['batch_size'] = 32\n",
    "    hparams['learning_rate'] = 2e-4\n",
    "    hparams['weight_decay'] = 0\n",
    "    return hparams"
   ]
  },
  {
   "cell_type": "code",
   "execution_count": 7,
   "metadata": {},
   "outputs": [],
   "source": [
    "def configure_ResNet(blocks_in_bundle=3, dropout_rate_2d=0, weight_decay=0, batchnorm2d=(True,True)):\n",
    "    \"\"\"\n",
    "        Configures hparams dictionary to be passed to the pytorch-lightning Module\n",
    "    \"\"\"\n",
    "    ### First convolutional Block\n",
    "    FirstConvBlock = {'Cin':3, 'Cout':16, 'kernel_size':(3,3), 'stride':1, 'padding':1,\n",
    "                # 'pool_kernel_size':(2, 2), 'pool_stride':(2, 2),\n",
    "                 'dropout_rate':0,\n",
    "                 'BatchNorm':True,\n",
    "                 'activation':'relu'}\n",
    "\n",
    "    ### Configure Residual Blocks\n",
    "    ResBlockTemplate = {'kernel_size':(3,3),'stride':1, 'padding':1,\n",
    "                     'dropout_rate':dropout_rate_2d, 'batchnorm2d':batchnorm2d, 'activation':'relu'}\n",
    "    \n",
    "    ### Make a list of layer bundles (inside each bundle all except first (optionally) ResNet blocks share\n",
    "    ### the same number of input and output channels. Stride=2 may be set for the first Conv2d of the first \n",
    "    ### ResNet block in each bundle this way reducing spatial dimentions of the image. \n",
    "    BundleTemplate = {'blocks_num':blocks_in_bundle, 'Cin_first':3, 'stride_first':1, 'block_hparams':ResBlockTemplate}\n",
    "    Conv2dBundles = defaultdict(lambda: copy.deepcopy(BundleTemplate))\n",
    "\n",
    "    Conv2dBundles['cv_bundle1'].update({'Cin_first':16, 'stride_first':1})\n",
    "    Conv2dBundles['cv_bundle1']['block_hparams'].update({'Cin':16, 'Cout':16})\n",
    "    Conv2dBundles['cv_bundle2'].update({'Cin_first':16, 'stride_first':2})\n",
    "    Conv2dBundles['cv_bundle2']['block_hparams'].update({'Cin':32, 'Cout':32})\n",
    "    Conv2dBundles['cv_bundle3'].update({'Cin_first':32, 'stride_first':2})\n",
    "    Conv2dBundles['cv_bundle3']['block_hparams'].update({'Cin':64, 'Cout':64})\n",
    "    \n",
    "    ### Configure global hyperparameters\n",
    "    hparams = {'Conv2dBundles':dict(Conv2dBundles), \n",
    "               'FirstConvBlock':FirstConvBlock, 'FirstMaxPool':False,\n",
    "               'FcBlock': (64,10), 'out_of_conv_dim':(8,8)}\n",
    "    hparams['batch_size'] = 32\n",
    "    hparams['learning_rate'] = 2e-4\n",
    "    hparams['weight_decay'] = weight_decay\n",
    "    return hparams"
   ]
  },
  {
   "cell_type": "code",
   "execution_count": 8,
   "metadata": {},
   "outputs": [],
   "source": [
    "dropouts = [0.25, 0.2, 0.15, 0.1, 0.07, 0.03, 0.01, 0.0]\n",
    "weight_decays = [5e-3, 1e-3, 5e-4, 1e-5]"
   ]
  },
  {
   "cell_type": "code",
   "execution_count": 5,
   "metadata": {},
   "outputs": [],
   "source": [
    "from pytorch_lightning.callbacks import LearningRateLogger, EarlyStopping, ModelCheckpoint\n",
    "from pytorch_lightning.loggers import WandbLogger\n",
    "path = '/home/moonstrider/Neural_Networks_Experiments/VISION/CIFAR10/'\n",
    "early_stopping = EarlyStopping('val_loss', min_delta=0.0, patience=3)\n",
    "tmpdir = '/home/moonstrider/Neural_Networks_Experiments/VISION/CIFAR10/chkpt'"
   ]
  },
  {
   "cell_type": "code",
   "execution_count": 10,
   "metadata": {},
   "outputs": [],
   "source": [
    "Model_configs = {}\n",
    "Model_configs['CIFARnet'] = configure_CIFARnet()\n",
    "for d in dropouts:\n",
    "    Model_configs[f'ResNet-drop-{d}-wd-0'] = configure_ResNet(dropout_rate_2d=d)\n",
    "for wd in weight_decays:\n",
    "    Model_configs[f'ResNet-drop-0-wd-{wd}'] = configure_ResNet(weight_decay=wd)"
   ]
  },
  {
   "cell_type": "code",
   "execution_count": 48,
   "metadata": {},
   "outputs": [],
   "source": [
    "def set_trainer_and_logger(run_name, project='CIFAR10_canonical', offline=True, tmpdir=tmpdir):\n",
    "    wandb_logger = WandbLogger(name=run_name, save_dir=path+'WandB_Logs/', offline=offline, project=project)\n",
    "    model_chekpoint = ModelCheckpoint(os.path.join(tmpdir, f'{run_name}'+'canonical_run-{epoch}-{val_loss:.2f}'), \n",
    "                                  verbose=True, period=3, save_top_k=2)\n",
    "    trainer = pl.Trainer(gpus=1, max_epochs=22, logger=wandb_logger, callbacks=[early_stopping], checkpoint_callback=None)\n",
    "    return trainer, model_chekpoint"
   ]
  },
  {
   "cell_type": "markdown",
   "metadata": {},
   "source": [
    "#### Running ResNet18 from torchvision"
   ]
  },
  {
   "cell_type": "code",
   "execution_count": 45,
   "metadata": {},
   "outputs": [],
   "source": [
    "from torchvision.models import resnet18\n",
    "class ResNetFromTorchvision(CIFARnetTemplate):\n",
    "    def __init__(self, hparams, model_cls):\n",
    "        super(ResNetFromTorchvision, self).__init__()\n",
    "        self.hparams = hparams\n",
    "        self.model = model_cls()\n",
    "    \n",
    "    def forward(self, x):\n",
    "        return self.model.forward(x)"
   ]
  },
  {
   "cell_type": "code",
   "execution_count": 46,
   "metadata": {},
   "outputs": [],
   "source": [
    "ResNet18_ImageNet_config = defaultdict(lambda x: 0)\n",
    "ResNet18_ImageNet_config['batch_size'] = 32\n",
    "ResNet18_ImageNet_config['learning_rate'] = 2e-4\n",
    "ResNet18_ImageNet_config['weight_decay'] = 0"
   ]
  },
  {
   "cell_type": "code",
   "execution_count": 47,
   "metadata": {},
   "outputs": [
    {
     "name": "stderr",
     "output_type": "stream",
     "text": [
      "GPU available: True, used: True\n",
      "No environment variable for node rank defined. Set as 0.\n",
      "CUDA_VISIBLE_DEVICES: [0]\n"
     ]
    }
   ],
   "source": [
    "run_name = 'ResNet18_ImageNet'\n",
    "trainer, model_chekpoint = set_trainer_and_logger(run_name)\n",
    "M = ResNetFromTorchvision(dict(ResNet18_ImageNet_config), resnet18)\n",
    "trainer.fit(M)"
   ]
  },
  {
   "cell_type": "markdown",
   "metadata": {},
   "source": [
    "### Running CifarNet and the sweep for Regularization parameters on ResNet20"
   ]
  },
  {
   "cell_type": "code",
   "execution_count": 29,
   "metadata": {},
   "outputs": [],
   "source": [
    "for i, run_name in enumerate(Model_configs):\n",
    "    trainer, model_chekpoint = set_trainer_and_logger(run_name)\n",
    "    M = CIFARnet(Model_configs[run_name]) if i==0 else ResNetCifar(Model_configs[run_name])\n",
    "    print('Starting training for 22 epochs with early stopping...\\n')\n",
    "    trainer.fit(M)\n",
    "    print('Training is finished.\\n')\n",
    "    print('Launching on test dataset...\\n')\n",
    "    trainer.test(M)\n",
    "print('All runs finished!')"
   ]
  },
  {
   "cell_type": "markdown",
   "metadata": {},
   "source": [
    "### Comparing ResNet110 training with and without BatchNorm2d"
   ]
  },
  {
   "cell_type": "markdown",
   "metadata": {},
   "source": [
    "<font color='Red'><b>Without BatchNorm:"
   ]
  },
  {
   "cell_type": "code",
   "execution_count": 10,
   "metadata": {},
   "outputs": [],
   "source": [
    "ResNet110_conf = configure_ResNet(blocks_in_bundle=18, dropout_rate_2d=0.1, \n",
    "                                  batchnorm2d=(False, False), \n",
    "                                  weight_decay=5e-3)"
   ]
  },
  {
   "cell_type": "code",
   "execution_count": 12,
   "metadata": {},
   "outputs": [
    {
     "name": "stderr",
     "output_type": "stream",
     "text": [
      "GPU available: True, used: True\n",
      "No environment variable for node rank defined. Set as 0.\n",
      "CUDA_VISIBLE_DEVICES: [0]\n"
     ]
    },
    {
     "name": "stdout",
     "output_type": "stream",
     "text": [
      "Configuring model ResNet110_no_bn...\n",
      "\n",
      "Starting training for 22 epochs with early stopping...\n",
      "\n"
     ]
    }
   ],
   "source": [
    "run_name = 'ResNet110_no_bn'\n",
    "trainer, model_chekpoint = set_trainer_and_logger(run_name)\n",
    "M = ResNetCifar(ResNet110_conf)\n",
    "trainer.fit(M)"
   ]
  },
  {
   "cell_type": "markdown",
   "metadata": {},
   "source": [
    "<font color='Green'><b>With BatchNorm:"
   ]
  },
  {
   "cell_type": "code",
   "execution_count": 18,
   "metadata": {},
   "outputs": [],
   "source": [
    "ResNet110_conf = configure_ResNet(blocks_in_bundle=18, dropout_rate_2d=0.1, \n",
    "                                  batchnorm2d=(True, True), \n",
    "                                  weight_decay=5e-3)"
   ]
  },
  {
   "cell_type": "code",
   "execution_count": 31,
   "metadata": {},
   "outputs": [],
   "source": [
    "run_name = 'ResNet110_with_bn'\n",
    "trainer, model_chekpoint = set_trainer_and_logger(run_name)\n",
    "M = ResNetCifar(ResNet110_conf)\n",
    "trainer.fit(M)"
   ]
  },
  {
   "cell_type": "markdown",
   "metadata": {},
   "source": [
    "### Adding augmentation and a bit of experiments with bundles of ResNet blocks configuration"
   ]
  },
  {
   "cell_type": "code",
   "execution_count": 42,
   "metadata": {},
   "outputs": [],
   "source": [
    "FirstConvBlock = {'Cin':3, 'Cout':16, 'kernel_size':(3,3), 'stride':1, 'padding':1,\n",
    "            # 'pool_kernel_size':(2, 2), 'pool_stride':(2, 2),\n",
    "             'dropout_rate':0,\n",
    "             'BatchNorm':True,\n",
    "             'activation':'relu'}\n",
    "\n",
    "### Configure Residual Blocks\n",
    "ResBlockTemplate = {'kernel_size':(3,3),'stride':1, 'padding':1,\n",
    "                 'dropout_rate':0.15, 'batchnorm2d':(True,True), 'activation':'relu'}\n",
    "\n",
    "### Make a list of layer bundles (inside each bundle all except first (optionally) ResNet blocks share\n",
    "### the same number of input and output channels. Stride=2 may be set for the first Conv2d of the first \n",
    "### ResNet block in each bundle this way reducing spatial dimentions of the image. \n",
    "BundleTemplate = {'blocks_num':3, 'Cin_first':3, 'stride_first':1, 'block_hparams':ResBlockTemplate}\n",
    "Conv2dBundles = defaultdict(lambda: copy.deepcopy(BundleTemplate))\n",
    "\n",
    "Conv2dBundles['cv_bundle1'].update({'blocks_num':5, 'Cin_first':16, 'stride_first':1})\n",
    "Conv2dBundles['cv_bundle1']['block_hparams'].update({'Cin':32, 'Cout':32})\n",
    "Conv2dBundles['cv_bundle2'].update({'blocks_num':7, 'Cin_first':32, 'stride_first':2})\n",
    "Conv2dBundles['cv_bundle2']['block_hparams'].update({'Cin':64, 'Cout':64})\n",
    "Conv2dBundles['cv_bundle3'].update({'blocks_num':7, 'Cin_first':64, 'stride_first':2})\n",
    "Conv2dBundles['cv_bundle3']['block_hparams'].update({'Cin':128, 'Cout':128})\n",
    "Conv2dBundles['cv_bundle4'].update({'blocks_num':5, 'Cin_first':128, 'stride_first':2})\n",
    "Conv2dBundles['cv_bundle4']['block_hparams'].update({'Cin':256, 'Cout':256})\n",
    "\n",
    "### Configure global hyperparameters\n",
    "hparams = {'Conv2dBundles':dict(Conv2dBundles), \n",
    "           'FirstConvBlock':FirstConvBlock, 'FirstMaxPool':False,\n",
    "           'FcBlock': (256,10), 'out_of_conv_dim':(4,4)}\n",
    "hparams['batch_size'] = 32\n",
    "hparams['learning_rate'] = 2e-4\n",
    "hparams['weight_decay'] = 5e-3"
   ]
  },
  {
   "cell_type": "code",
   "execution_count": 43,
   "metadata": {},
   "outputs": [
    {
     "name": "stderr",
     "output_type": "stream",
     "text": [
      "GPU available: True, used: True\n",
      "No environment variable for node rank defined. Set as 0.\n",
      "CUDA_VISIBLE_DEVICES: [0]\n"
     ]
    },
    {
     "name": "stdout",
     "output_type": "stream",
     "text": [
      "Starting training for 25 epochs with early stopping...\n",
      "\n"
     ]
    }
   ],
   "source": [
    "run_name = 'MyResNet-vII'\n",
    "trainer, model_chekpoint = set_trainer_and_logger(run_name)\n",
    "M = ResNetCifar(hparams)\n",
    "print('Starting training for 25 epochs with early stopping...\\n')"
   ]
  },
  {
   "cell_type": "markdown",
   "metadata": {},
   "source": [
    "<font color='Purple'><b>Adding augmentations:"
   ]
  },
  {
   "cell_type": "code",
   "execution_count": 12,
   "metadata": {},
   "outputs": [
    {
     "name": "stdout",
     "output_type": "stream",
     "text": [
      "Files already downloaded and verified\n",
      "Files already downloaded and verified\n"
     ]
    }
   ],
   "source": [
    "M.prepare_data()"
   ]
  },
  {
   "cell_type": "code",
   "execution_count": 13,
   "metadata": {},
   "outputs": [],
   "source": [
    "from torchvision import transforms\n",
    "M.train_dataset.dataset.transform = transforms.Compose([transforms.RandomHorizontalFlip(),\n",
    "                    transforms.RandomGrayscale(),\n",
    "                    transforms.RandomPerspective(),\n",
    "                    transforms.RandomRotation(degrees=45),\n",
    "                    transforms.ToTensor(),\n",
    "                    transforms.Normalize(mean=(0.5, 0.5, 0.5), std=(0.5, 0.5, 0.5))])"
   ]
  },
  {
   "cell_type": "code",
   "execution_count": 14,
   "metadata": {},
   "outputs": [
    {
     "name": "stdout",
     "output_type": "stream",
     "text": [
      "Files already downloaded and verified\n",
      "Files already downloaded and verified\n"
     ]
    },
    {
     "data": {
      "text/html": [
       "\n",
       "            Using <a href=\"https://wandb.com\" target=\"_blank\">Weights & Biases</a> in dryrun mode. Not logging results to the cloud.<br/>\n",
       "            Call wandb.login() to authenticate this machine.<br/>\n",
       "        "
      ],
      "text/plain": [
       "<IPython.core.display.HTML object>"
      ]
     },
     "metadata": {},
     "output_type": "display_data"
    },
    {
     "name": "stderr",
     "output_type": "stream",
     "text": [
      "wandb: Wandb version 0.9.1 is available!  To upgrade, please run:\n",
      "wandb:  $ pip install wandb --upgrade\n",
      "\n",
      "    | Name                  | Type        | Params\n",
      "--------------------------------------------------\n",
      "0   | FirstConv             | ConvBlock   | 480   \n",
      "1   | FirstConv.Conv2d      | Conv2d      | 448   \n",
      "2   | FirstConv.BatchNorm2d | BatchNorm2d | 32    \n",
      "3   | cv_bundle1            | Sequential  | 88 K  \n",
      "4   | cv_bundle1.0          | ResNetBlock | 14 K  \n",
      "5   | cv_bundle1.0.conv1    | Conv2d      | 4 K   \n",
      "6   | cv_bundle1.0.conv2    | Conv2d      | 9 K   \n",
      "7   | cv_bundle1.0.bn1      | BatchNorm2d | 64    \n",
      "8   | cv_bundle1.0.bn2      | BatchNorm2d | 64    \n",
      "9   | cv_bundle1.0.dropout1 | Dropout2d   | 0     \n",
      "10  | cv_bundle1.0.dropout2 | Dropout2d   | 0     \n",
      "11  | cv_bundle1.1          | ResNetBlock | 18 K  \n",
      "12  | cv_bundle1.1.conv1    | Conv2d      | 9 K   \n",
      "13  | cv_bundle1.1.conv2    | Conv2d      | 9 K   \n",
      "14  | cv_bundle1.1.bn1      | BatchNorm2d | 64    \n",
      "15  | cv_bundle1.1.bn2      | BatchNorm2d | 64    \n",
      "16  | cv_bundle1.1.dropout1 | Dropout2d   | 0     \n",
      "17  | cv_bundle1.1.dropout2 | Dropout2d   | 0     \n",
      "18  | cv_bundle1.2          | ResNetBlock | 18 K  \n",
      "19  | cv_bundle1.2.conv1    | Conv2d      | 9 K   \n",
      "20  | cv_bundle1.2.conv2    | Conv2d      | 9 K   \n",
      "21  | cv_bundle1.2.bn1      | BatchNorm2d | 64    \n",
      "22  | cv_bundle1.2.bn2      | BatchNorm2d | 64    \n",
      "23  | cv_bundle1.2.dropout1 | Dropout2d   | 0     \n",
      "24  | cv_bundle1.2.dropout2 | Dropout2d   | 0     \n",
      "25  | cv_bundle1.3          | ResNetBlock | 18 K  \n",
      "26  | cv_bundle1.3.conv1    | Conv2d      | 9 K   \n",
      "27  | cv_bundle1.3.conv2    | Conv2d      | 9 K   \n",
      "28  | cv_bundle1.3.bn1      | BatchNorm2d | 64    \n",
      "29  | cv_bundle1.3.bn2      | BatchNorm2d | 64    \n",
      "30  | cv_bundle1.3.dropout1 | Dropout2d   | 0     \n",
      "31  | cv_bundle1.3.dropout2 | Dropout2d   | 0     \n",
      "32  | cv_bundle1.4          | ResNetBlock | 18 K  \n",
      "33  | cv_bundle1.4.conv1    | Conv2d      | 9 K   \n",
      "34  | cv_bundle1.4.conv2    | Conv2d      | 9 K   \n",
      "35  | cv_bundle1.4.bn1      | BatchNorm2d | 64    \n",
      "36  | cv_bundle1.4.bn2      | BatchNorm2d | 64    \n",
      "37  | cv_bundle1.4.dropout1 | Dropout2d   | 0     \n",
      "38  | cv_bundle1.4.dropout2 | Dropout2d   | 0     \n",
      "39  | cv_bundle2            | Sequential  | 500 K \n",
      "40  | cv_bundle2.0          | ResNetBlock | 55 K  \n",
      "41  | cv_bundle2.0.conv1    | Conv2d      | 18 K  \n",
      "42  | cv_bundle2.0.conv2    | Conv2d      | 36 K  \n",
      "43  | cv_bundle2.0.bn1      | BatchNorm2d | 128   \n",
      "44  | cv_bundle2.0.bn2      | BatchNorm2d | 128   \n",
      "45  | cv_bundle2.0.dropout1 | Dropout2d   | 0     \n",
      "46  | cv_bundle2.0.dropout2 | Dropout2d   | 0     \n",
      "47  | cv_bundle2.1          | ResNetBlock | 74 K  \n",
      "48  | cv_bundle2.1.conv1    | Conv2d      | 36 K  \n",
      "49  | cv_bundle2.1.conv2    | Conv2d      | 36 K  \n",
      "50  | cv_bundle2.1.bn1      | BatchNorm2d | 128   \n",
      "51  | cv_bundle2.1.bn2      | BatchNorm2d | 128   \n",
      "52  | cv_bundle2.1.dropout1 | Dropout2d   | 0     \n",
      "53  | cv_bundle2.1.dropout2 | Dropout2d   | 0     \n",
      "54  | cv_bundle2.2          | ResNetBlock | 74 K  \n",
      "55  | cv_bundle2.2.conv1    | Conv2d      | 36 K  \n",
      "56  | cv_bundle2.2.conv2    | Conv2d      | 36 K  \n",
      "57  | cv_bundle2.2.bn1      | BatchNorm2d | 128   \n",
      "58  | cv_bundle2.2.bn2      | BatchNorm2d | 128   \n",
      "59  | cv_bundle2.2.dropout1 | Dropout2d   | 0     \n",
      "60  | cv_bundle2.2.dropout2 | Dropout2d   | 0     \n",
      "61  | cv_bundle2.3          | ResNetBlock | 74 K  \n",
      "62  | cv_bundle2.3.conv1    | Conv2d      | 36 K  \n",
      "63  | cv_bundle2.3.conv2    | Conv2d      | 36 K  \n",
      "64  | cv_bundle2.3.bn1      | BatchNorm2d | 128   \n",
      "65  | cv_bundle2.3.bn2      | BatchNorm2d | 128   \n",
      "66  | cv_bundle2.3.dropout1 | Dropout2d   | 0     \n",
      "67  | cv_bundle2.3.dropout2 | Dropout2d   | 0     \n",
      "68  | cv_bundle2.4          | ResNetBlock | 74 K  \n",
      "69  | cv_bundle2.4.conv1    | Conv2d      | 36 K  \n",
      "70  | cv_bundle2.4.conv2    | Conv2d      | 36 K  \n",
      "71  | cv_bundle2.4.bn1      | BatchNorm2d | 128   \n",
      "72  | cv_bundle2.4.bn2      | BatchNorm2d | 128   \n",
      "73  | cv_bundle2.4.dropout1 | Dropout2d   | 0     \n",
      "74  | cv_bundle2.4.dropout2 | Dropout2d   | 0     \n",
      "75  | cv_bundle2.5          | ResNetBlock | 74 K  \n",
      "76  | cv_bundle2.5.conv1    | Conv2d      | 36 K  \n",
      "77  | cv_bundle2.5.conv2    | Conv2d      | 36 K  \n",
      "78  | cv_bundle2.5.bn1      | BatchNorm2d | 128   \n",
      "79  | cv_bundle2.5.bn2      | BatchNorm2d | 128   \n",
      "80  | cv_bundle2.5.dropout1 | Dropout2d   | 0     \n",
      "81  | cv_bundle2.5.dropout2 | Dropout2d   | 0     \n",
      "82  | cv_bundle2.6          | ResNetBlock | 74 K  \n",
      "83  | cv_bundle2.6.conv1    | Conv2d      | 36 K  \n",
      "84  | cv_bundle2.6.conv2    | Conv2d      | 36 K  \n",
      "85  | cv_bundle2.6.bn1      | BatchNorm2d | 128   \n",
      "86  | cv_bundle2.6.bn2      | BatchNorm2d | 128   \n",
      "87  | cv_bundle2.6.dropout1 | Dropout2d   | 0     \n",
      "88  | cv_bundle2.6.dropout2 | Dropout2d   | 0     \n",
      "89  | cv_bundle3            | Sequential  | 1 M   \n",
      "90  | cv_bundle3.0          | ResNetBlock | 221 K \n",
      "91  | cv_bundle3.0.conv1    | Conv2d      | 73 K  \n",
      "92  | cv_bundle3.0.conv2    | Conv2d      | 147 K \n",
      "93  | cv_bundle3.0.bn1      | BatchNorm2d | 256   \n",
      "94  | cv_bundle3.0.bn2      | BatchNorm2d | 256   \n",
      "95  | cv_bundle3.0.dropout1 | Dropout2d   | 0     \n",
      "96  | cv_bundle3.0.dropout2 | Dropout2d   | 0     \n",
      "97  | cv_bundle3.1          | ResNetBlock | 295 K \n",
      "98  | cv_bundle3.1.conv1    | Conv2d      | 147 K \n",
      "99  | cv_bundle3.1.conv2    | Conv2d      | 147 K \n",
      "100 | cv_bundle3.1.bn1      | BatchNorm2d | 256   \n",
      "101 | cv_bundle3.1.bn2      | BatchNorm2d | 256   \n",
      "102 | cv_bundle3.1.dropout1 | Dropout2d   | 0     \n",
      "103 | cv_bundle3.1.dropout2 | Dropout2d   | 0     \n",
      "104 | cv_bundle3.2          | ResNetBlock | 295 K \n",
      "105 | cv_bundle3.2.conv1    | Conv2d      | 147 K \n",
      "106 | cv_bundle3.2.conv2    | Conv2d      | 147 K \n",
      "107 | cv_bundle3.2.bn1      | BatchNorm2d | 256   \n",
      "108 | cv_bundle3.2.bn2      | BatchNorm2d | 256   \n",
      "109 | cv_bundle3.2.dropout1 | Dropout2d   | 0     \n",
      "110 | cv_bundle3.2.dropout2 | Dropout2d   | 0     \n",
      "111 | cv_bundle3.3          | ResNetBlock | 295 K \n",
      "112 | cv_bundle3.3.conv1    | Conv2d      | 147 K \n",
      "113 | cv_bundle3.3.conv2    | Conv2d      | 147 K \n",
      "114 | cv_bundle3.3.bn1      | BatchNorm2d | 256   \n",
      "115 | cv_bundle3.3.bn2      | BatchNorm2d | 256   \n",
      "116 | cv_bundle3.3.dropout1 | Dropout2d   | 0     \n",
      "117 | cv_bundle3.3.dropout2 | Dropout2d   | 0     \n",
      "118 | cv_bundle3.4          | ResNetBlock | 295 K \n",
      "119 | cv_bundle3.4.conv1    | Conv2d      | 147 K \n",
      "120 | cv_bundle3.4.conv2    | Conv2d      | 147 K \n",
      "121 | cv_bundle3.4.bn1      | BatchNorm2d | 256   \n",
      "122 | cv_bundle3.4.bn2      | BatchNorm2d | 256   \n",
      "123 | cv_bundle3.4.dropout1 | Dropout2d   | 0     \n",
      "124 | cv_bundle3.4.dropout2 | Dropout2d   | 0     \n",
      "125 | cv_bundle3.5          | ResNetBlock | 295 K \n",
      "126 | cv_bundle3.5.conv1    | Conv2d      | 147 K \n",
      "127 | cv_bundle3.5.conv2    | Conv2d      | 147 K \n",
      "128 | cv_bundle3.5.bn1      | BatchNorm2d | 256   \n",
      "129 | cv_bundle3.5.bn2      | BatchNorm2d | 256   \n",
      "130 | cv_bundle3.5.dropout1 | Dropout2d   | 0     \n",
      "131 | cv_bundle3.5.dropout2 | Dropout2d   | 0     \n",
      "132 | cv_bundle3.6          | ResNetBlock | 295 K \n",
      "133 | cv_bundle3.6.conv1    | Conv2d      | 147 K \n",
      "134 | cv_bundle3.6.conv2    | Conv2d      | 147 K \n",
      "135 | cv_bundle3.6.bn1      | BatchNorm2d | 256   \n",
      "136 | cv_bundle3.6.bn2      | BatchNorm2d | 256   \n",
      "137 | cv_bundle3.6.dropout1 | Dropout2d   | 0     \n",
      "138 | cv_bundle3.6.dropout2 | Dropout2d   | 0     \n",
      "139 | cv_bundle4            | Sequential  | 5 M   \n",
      "140 | cv_bundle4.0          | ResNetBlock | 886 K \n",
      "141 | cv_bundle4.0.conv1    | Conv2d      | 295 K \n",
      "142 | cv_bundle4.0.conv2    | Conv2d      | 590 K \n",
      "143 | cv_bundle4.0.bn1      | BatchNorm2d | 512   \n",
      "144 | cv_bundle4.0.bn2      | BatchNorm2d | 512   \n",
      "145 | cv_bundle4.0.dropout1 | Dropout2d   | 0     \n",
      "146 | cv_bundle4.0.dropout2 | Dropout2d   | 0     \n",
      "147 | cv_bundle4.1          | ResNetBlock | 1 M   \n",
      "148 | cv_bundle4.1.conv1    | Conv2d      | 590 K \n",
      "149 | cv_bundle4.1.conv2    | Conv2d      | 590 K \n",
      "150 | cv_bundle4.1.bn1      | BatchNorm2d | 512   \n",
      "151 | cv_bundle4.1.bn2      | BatchNorm2d | 512   \n",
      "152 | cv_bundle4.1.dropout1 | Dropout2d   | 0     \n",
      "153 | cv_bundle4.1.dropout2 | Dropout2d   | 0     \n",
      "154 | cv_bundle4.2          | ResNetBlock | 1 M   \n",
      "155 | cv_bundle4.2.conv1    | Conv2d      | 590 K \n",
      "156 | cv_bundle4.2.conv2    | Conv2d      | 590 K \n",
      "157 | cv_bundle4.2.bn1      | BatchNorm2d | 512   \n",
      "158 | cv_bundle4.2.bn2      | BatchNorm2d | 512   \n",
      "159 | cv_bundle4.2.dropout1 | Dropout2d   | 0     \n",
      "160 | cv_bundle4.2.dropout2 | Dropout2d   | 0     \n",
      "161 | cv_bundle4.3          | ResNetBlock | 1 M   \n",
      "162 | cv_bundle4.3.conv1    | Conv2d      | 590 K \n",
      "163 | cv_bundle4.3.conv2    | Conv2d      | 590 K \n",
      "164 | cv_bundle4.3.bn1      | BatchNorm2d | 512   \n",
      "165 | cv_bundle4.3.bn2      | BatchNorm2d | 512   \n",
      "166 | cv_bundle4.3.dropout1 | Dropout2d   | 0     \n",
      "167 | cv_bundle4.3.dropout2 | Dropout2d   | 0     \n",
      "168 | cv_bundle4.4          | ResNetBlock | 1 M   \n",
      "169 | cv_bundle4.4.conv1    | Conv2d      | 590 K \n",
      "170 | cv_bundle4.4.conv2    | Conv2d      | 590 K \n",
      "171 | cv_bundle4.4.bn1      | BatchNorm2d | 512   \n",
      "172 | cv_bundle4.4.bn2      | BatchNorm2d | 512   \n",
      "173 | cv_bundle4.4.dropout1 | Dropout2d   | 0     \n",
      "174 | cv_bundle4.4.dropout2 | Dropout2d   | 0     \n",
      "175 | FcBlock               | Linear      | 2 K   \n",
      "176 | AvgPool2d             | AvgPool2d   | 0     \n"
     ]
    },
    {
     "data": {
      "application/vnd.jupyter.widget-view+json": {
       "model_id": "99bea8e02b644f49b367b7262213f8f0",
       "version_major": 2,
       "version_minor": 0
      },
      "text/plain": [
       "HBox(children=(FloatProgress(value=1.0, bar_style='info', description='Validation sanity check', layout=Layout…"
      ]
     },
     "metadata": {},
     "output_type": "display_data"
    },
    {
     "data": {
      "application/vnd.jupyter.widget-view+json": {
       "model_id": "04c760bb71cc419fa6d8ed81d5caa9c0",
       "version_major": 2,
       "version_minor": 0
      },
      "text/plain": [
       "HBox(children=(FloatProgress(value=1.0, bar_style='info', description='Training', layout=Layout(flex='2'), max…"
      ]
     },
     "metadata": {},
     "output_type": "display_data"
    },
    {
     "name": "stderr",
     "output_type": "stream",
     "text": [
      "wandb: WARNING Adding to old History rows isn't currently supported.  Step 0 < 1; dropping {'train_loss': 4.11558723449707, 'train_acc': 0.15625, 'epoch': 0}.\n"
     ]
    },
    {
     "data": {
      "application/vnd.jupyter.widget-view+json": {
       "model_id": "85dfdc498b6a4b07ad8b879bd24f66d0",
       "version_major": 2,
       "version_minor": 0
      },
      "text/plain": [
       "HBox(children=(FloatProgress(value=1.0, bar_style='info', description='Validating', layout=Layout(flex='2'), m…"
      ]
     },
     "metadata": {},
     "output_type": "display_data"
    },
    {
     "data": {
      "application/vnd.jupyter.widget-view+json": {
       "model_id": "be946464365d4090827bf3b78124162b",
       "version_major": 2,
       "version_minor": 0
      },
      "text/plain": [
       "HBox(children=(FloatProgress(value=1.0, bar_style='info', description='Validating', layout=Layout(flex='2'), m…"
      ]
     },
     "metadata": {},
     "output_type": "display_data"
    },
    {
     "data": {
      "application/vnd.jupyter.widget-view+json": {
       "model_id": "fb0da9abe40d456b9a7b533f5c3194fa",
       "version_major": 2,
       "version_minor": 0
      },
      "text/plain": [
       "HBox(children=(FloatProgress(value=1.0, bar_style='info', description='Validating', layout=Layout(flex='2'), m…"
      ]
     },
     "metadata": {},
     "output_type": "display_data"
    },
    {
     "data": {
      "application/vnd.jupyter.widget-view+json": {
       "model_id": "2fe47963344549c291dfb4dcf13cf971",
       "version_major": 2,
       "version_minor": 0
      },
      "text/plain": [
       "HBox(children=(FloatProgress(value=1.0, bar_style='info', description='Validating', layout=Layout(flex='2'), m…"
      ]
     },
     "metadata": {},
     "output_type": "display_data"
    },
    {
     "data": {
      "application/vnd.jupyter.widget-view+json": {
       "model_id": "de025670669a4643b67636bb10e6eefe",
       "version_major": 2,
       "version_minor": 0
      },
      "text/plain": [
       "HBox(children=(FloatProgress(value=1.0, bar_style='info', description='Validating', layout=Layout(flex='2'), m…"
      ]
     },
     "metadata": {},
     "output_type": "display_data"
    },
    {
     "data": {
      "application/vnd.jupyter.widget-view+json": {
       "model_id": "ad32d2b42a754b73b4bbbf6f7e3b1c84",
       "version_major": 2,
       "version_minor": 0
      },
      "text/plain": [
       "HBox(children=(FloatProgress(value=1.0, bar_style='info', description='Validating', layout=Layout(flex='2'), m…"
      ]
     },
     "metadata": {},
     "output_type": "display_data"
    },
    {
     "data": {
      "application/vnd.jupyter.widget-view+json": {
       "model_id": "152a3b7f997e42c28c0dea35d348fe82",
       "version_major": 2,
       "version_minor": 0
      },
      "text/plain": [
       "HBox(children=(FloatProgress(value=1.0, bar_style='info', description='Validating', layout=Layout(flex='2'), m…"
      ]
     },
     "metadata": {},
     "output_type": "display_data"
    },
    {
     "data": {
      "application/vnd.jupyter.widget-view+json": {
       "model_id": "81f4a5313aef4486b4b0d11ec7076465",
       "version_major": 2,
       "version_minor": 0
      },
      "text/plain": [
       "HBox(children=(FloatProgress(value=1.0, bar_style='info', description='Validating', layout=Layout(flex='2'), m…"
      ]
     },
     "metadata": {},
     "output_type": "display_data"
    },
    {
     "data": {
      "application/vnd.jupyter.widget-view+json": {
       "model_id": "d3ef6d86035e41a3ad0d004f321c0f66",
       "version_major": 2,
       "version_minor": 0
      },
      "text/plain": [
       "HBox(children=(FloatProgress(value=1.0, bar_style='info', description='Validating', layout=Layout(flex='2'), m…"
      ]
     },
     "metadata": {},
     "output_type": "display_data"
    },
    {
     "data": {
      "application/vnd.jupyter.widget-view+json": {
       "model_id": "d76ea964c5a744c48c4387df36380907",
       "version_major": 2,
       "version_minor": 0
      },
      "text/plain": [
       "HBox(children=(FloatProgress(value=1.0, bar_style='info', description='Validating', layout=Layout(flex='2'), m…"
      ]
     },
     "metadata": {},
     "output_type": "display_data"
    },
    {
     "data": {
      "application/vnd.jupyter.widget-view+json": {
       "model_id": "7a425906c9504c83bee1a5d2a0c6e987",
       "version_major": 2,
       "version_minor": 0
      },
      "text/plain": [
       "HBox(children=(FloatProgress(value=1.0, bar_style='info', description='Validating', layout=Layout(flex='2'), m…"
      ]
     },
     "metadata": {},
     "output_type": "display_data"
    },
    {
     "data": {
      "application/vnd.jupyter.widget-view+json": {
       "model_id": "ac7e9ef5d5c8427a91139c1d47bc90f8",
       "version_major": 2,
       "version_minor": 0
      },
      "text/plain": [
       "HBox(children=(FloatProgress(value=1.0, bar_style='info', description='Validating', layout=Layout(flex='2'), m…"
      ]
     },
     "metadata": {},
     "output_type": "display_data"
    },
    {
     "data": {
      "application/vnd.jupyter.widget-view+json": {
       "model_id": "82339d9a9a144170b635de9399807e39",
       "version_major": 2,
       "version_minor": 0
      },
      "text/plain": [
       "HBox(children=(FloatProgress(value=1.0, bar_style='info', description='Validating', layout=Layout(flex='2'), m…"
      ]
     },
     "metadata": {},
     "output_type": "display_data"
    },
    {
     "data": {
      "application/vnd.jupyter.widget-view+json": {
       "model_id": "ca6fa19a644541e4850014563ccf4beb",
       "version_major": 2,
       "version_minor": 0
      },
      "text/plain": [
       "HBox(children=(FloatProgress(value=1.0, bar_style='info', description='Validating', layout=Layout(flex='2'), m…"
      ]
     },
     "metadata": {},
     "output_type": "display_data"
    },
    {
     "data": {
      "application/vnd.jupyter.widget-view+json": {
       "model_id": "035f9e1ecafb4e5aac5f97d393e67654",
       "version_major": 2,
       "version_minor": 0
      },
      "text/plain": [
       "HBox(children=(FloatProgress(value=1.0, bar_style='info', description='Validating', layout=Layout(flex='2'), m…"
      ]
     },
     "metadata": {},
     "output_type": "display_data"
    },
    {
     "data": {
      "application/vnd.jupyter.widget-view+json": {
       "model_id": "559049b3bbef45bfa27dfe2bca2bf22e",
       "version_major": 2,
       "version_minor": 0
      },
      "text/plain": [
       "HBox(children=(FloatProgress(value=1.0, bar_style='info', description='Validating', layout=Layout(flex='2'), m…"
      ]
     },
     "metadata": {},
     "output_type": "display_data"
    },
    {
     "data": {
      "application/vnd.jupyter.widget-view+json": {
       "model_id": "9e8d200c302a4580a13ff527d49b0ee4",
       "version_major": 2,
       "version_minor": 0
      },
      "text/plain": [
       "HBox(children=(FloatProgress(value=1.0, bar_style='info', description='Validating', layout=Layout(flex='2'), m…"
      ]
     },
     "metadata": {},
     "output_type": "display_data"
    },
    {
     "data": {
      "application/vnd.jupyter.widget-view+json": {
       "model_id": "f100b9e48d0147479bd6140ed5ca3bce",
       "version_major": 2,
       "version_minor": 0
      },
      "text/plain": [
       "HBox(children=(FloatProgress(value=1.0, bar_style='info', description='Validating', layout=Layout(flex='2'), m…"
      ]
     },
     "metadata": {},
     "output_type": "display_data"
    },
    {
     "data": {
      "application/vnd.jupyter.widget-view+json": {
       "model_id": "0dbce6537a4240dab241fc8c69a3508a",
       "version_major": 2,
       "version_minor": 0
      },
      "text/plain": [
       "HBox(children=(FloatProgress(value=1.0, bar_style='info', description='Validating', layout=Layout(flex='2'), m…"
      ]
     },
     "metadata": {},
     "output_type": "display_data"
    },
    {
     "data": {
      "application/vnd.jupyter.widget-view+json": {
       "model_id": "47c5b3ee146d4759a40e48c86d0e179e",
       "version_major": 2,
       "version_minor": 0
      },
      "text/plain": [
       "HBox(children=(FloatProgress(value=1.0, bar_style='info', description='Validating', layout=Layout(flex='2'), m…"
      ]
     },
     "metadata": {},
     "output_type": "display_data"
    },
    {
     "data": {
      "application/vnd.jupyter.widget-view+json": {
       "model_id": "7617226b14254aaebbbcd5395de8854a",
       "version_major": 2,
       "version_minor": 0
      },
      "text/plain": [
       "HBox(children=(FloatProgress(value=1.0, bar_style='info', description='Validating', layout=Layout(flex='2'), m…"
      ]
     },
     "metadata": {},
     "output_type": "display_data"
    },
    {
     "data": {
      "application/vnd.jupyter.widget-view+json": {
       "model_id": "3fd6296edc2a410db38614e5eb7cc497",
       "version_major": 2,
       "version_minor": 0
      },
      "text/plain": [
       "HBox(children=(FloatProgress(value=1.0, bar_style='info', description='Validating', layout=Layout(flex='2'), m…"
      ]
     },
     "metadata": {},
     "output_type": "display_data"
    },
    {
     "data": {
      "application/vnd.jupyter.widget-view+json": {
       "model_id": "5ecfffdab5bf415f9597672b16eacdb5",
       "version_major": 2,
       "version_minor": 0
      },
      "text/plain": [
       "HBox(children=(FloatProgress(value=1.0, bar_style='info', description='Validating', layout=Layout(flex='2'), m…"
      ]
     },
     "metadata": {},
     "output_type": "display_data"
    },
    {
     "data": {
      "application/vnd.jupyter.widget-view+json": {
       "model_id": "ac3ca4cc6e4b43b3acfe9704c05d2872",
       "version_major": 2,
       "version_minor": 0
      },
      "text/plain": [
       "HBox(children=(FloatProgress(value=1.0, bar_style='info', description='Validating', layout=Layout(flex='2'), m…"
      ]
     },
     "metadata": {},
     "output_type": "display_data"
    },
    {
     "data": {
      "application/vnd.jupyter.widget-view+json": {
       "model_id": "491828e9734a47fdb76254e665d2b332",
       "version_major": 2,
       "version_minor": 0
      },
      "text/plain": [
       "HBox(children=(FloatProgress(value=1.0, bar_style='info', description='Validating', layout=Layout(flex='2'), m…"
      ]
     },
     "metadata": {},
     "output_type": "display_data"
    },
    {
     "data": {
      "application/vnd.jupyter.widget-view+json": {
       "model_id": "dfb531f2479f46b494f3d059ec5bfae8",
       "version_major": 2,
       "version_minor": 0
      },
      "text/plain": [
       "HBox(children=(FloatProgress(value=1.0, bar_style='info', description='Validating', layout=Layout(flex='2'), m…"
      ]
     },
     "metadata": {},
     "output_type": "display_data"
    },
    {
     "data": {
      "application/vnd.jupyter.widget-view+json": {
       "model_id": "e2c86aeeb3c94301a0b3edbd131a1eaa",
       "version_major": 2,
       "version_minor": 0
      },
      "text/plain": [
       "HBox(children=(FloatProgress(value=1.0, bar_style='info', description='Validating', layout=Layout(flex='2'), m…"
      ]
     },
     "metadata": {},
     "output_type": "display_data"
    },
    {
     "data": {
      "application/vnd.jupyter.widget-view+json": {
       "model_id": "b848dfbd6cbd48ab8d9f3bf43cf5c0d5",
       "version_major": 2,
       "version_minor": 0
      },
      "text/plain": [
       "HBox(children=(FloatProgress(value=1.0, bar_style='info', description='Validating', layout=Layout(flex='2'), m…"
      ]
     },
     "metadata": {},
     "output_type": "display_data"
    },
    {
     "data": {
      "application/vnd.jupyter.widget-view+json": {
       "model_id": "4917a2a496c14d658c45401ddf7e9b8a",
       "version_major": 2,
       "version_minor": 0
      },
      "text/plain": [
       "HBox(children=(FloatProgress(value=1.0, bar_style='info', description='Validating', layout=Layout(flex='2'), m…"
      ]
     },
     "metadata": {},
     "output_type": "display_data"
    },
    {
     "data": {
      "application/vnd.jupyter.widget-view+json": {
       "model_id": "1238462623b2412ab9ededff232660ce",
       "version_major": 2,
       "version_minor": 0
      },
      "text/plain": [
       "HBox(children=(FloatProgress(value=1.0, bar_style='info', description='Validating', layout=Layout(flex='2'), m…"
      ]
     },
     "metadata": {},
     "output_type": "display_data"
    },
    {
     "data": {
      "application/vnd.jupyter.widget-view+json": {
       "model_id": "2d15a63ba67b4784bd54bdf517eb9e6b",
       "version_major": 2,
       "version_minor": 0
      },
      "text/plain": [
       "HBox(children=(FloatProgress(value=1.0, bar_style='info', description='Validating', layout=Layout(flex='2'), m…"
      ]
     },
     "metadata": {},
     "output_type": "display_data"
    },
    {
     "data": {
      "application/vnd.jupyter.widget-view+json": {
       "model_id": "5442979d3ce5403588e769a3cc1860b9",
       "version_major": 2,
       "version_minor": 0
      },
      "text/plain": [
       "HBox(children=(FloatProgress(value=1.0, bar_style='info', description='Validating', layout=Layout(flex='2'), m…"
      ]
     },
     "metadata": {},
     "output_type": "display_data"
    },
    {
     "data": {
      "application/vnd.jupyter.widget-view+json": {
       "model_id": "df9273258cf24540bcc896aa69384e14",
       "version_major": 2,
       "version_minor": 0
      },
      "text/plain": [
       "HBox(children=(FloatProgress(value=1.0, bar_style='info', description='Validating', layout=Layout(flex='2'), m…"
      ]
     },
     "metadata": {},
     "output_type": "display_data"
    },
    {
     "data": {
      "application/vnd.jupyter.widget-view+json": {
       "model_id": "aa7a868cc27946a1864603e8f9d84f18",
       "version_major": 2,
       "version_minor": 0
      },
      "text/plain": [
       "HBox(children=(FloatProgress(value=1.0, bar_style='info', description='Validating', layout=Layout(flex='2'), m…"
      ]
     },
     "metadata": {},
     "output_type": "display_data"
    },
    {
     "data": {
      "application/vnd.jupyter.widget-view+json": {
       "model_id": "4d6c5288acce4546a825e3c95098321e",
       "version_major": 2,
       "version_minor": 0
      },
      "text/plain": [
       "HBox(children=(FloatProgress(value=1.0, bar_style='info', description='Validating', layout=Layout(flex='2'), m…"
      ]
     },
     "metadata": {},
     "output_type": "display_data"
    },
    {
     "name": "stdout",
     "output_type": "stream",
     "text": [
      "\n"
     ]
    },
    {
     "data": {
      "text/plain": [
       "1"
      ]
     },
     "execution_count": 14,
     "metadata": {},
     "output_type": "execute_result"
    }
   ],
   "source": [
    "trainer.fit(M)"
   ]
  }
 ],
 "metadata": {
  "kernelspec": {
   "display_name": "iDS",
   "language": "python",
   "name": "ids"
  },
  "language_info": {
   "codemirror_mode": {
    "name": "ipython",
    "version": 3
   },
   "file_extension": ".py",
   "mimetype": "text/x-python",
   "name": "python",
   "nbconvert_exporter": "python",
   "pygments_lexer": "ipython3",
   "version": "3.6.8"
  }
 },
 "nbformat": 4,
 "nbformat_minor": 2
}
